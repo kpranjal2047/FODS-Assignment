{
 "cells": [
  {
   "cell_type": "markdown",
   "metadata": {},
   "source": [
    "# Initialization"
   ]
  },
  {
   "cell_type": "code",
   "execution_count": 1,
   "metadata": {},
   "outputs": [],
   "source": [
    "# Importing required modules\n",
    "import numpy as np\n",
    "import pandas as pd\n",
    "import matplotlib.pyplot as plt\n",
    "from sklearn.preprocessing import PolynomialFeatures\n",
    "%matplotlib inline"
   ]
  },
  {
   "cell_type": "code",
   "execution_count": 2,
   "metadata": {},
   "outputs": [
    {
     "data": {
      "text/html": [
       "<div>\n",
       "<style scoped>\n",
       "    .dataframe tbody tr th:only-of-type {\n",
       "        vertical-align: middle;\n",
       "    }\n",
       "\n",
       "    .dataframe tbody tr th {\n",
       "        vertical-align: top;\n",
       "    }\n",
       "\n",
       "    .dataframe thead th {\n",
       "        text-align: right;\n",
       "    }\n",
       "</style>\n",
       "<table border=\"1\" class=\"dataframe\">\n",
       "  <thead>\n",
       "    <tr style=\"text-align: right;\">\n",
       "      <th></th>\n",
       "      <th>age</th>\n",
       "      <th>bmi</th>\n",
       "      <th>charges</th>\n",
       "    </tr>\n",
       "  </thead>\n",
       "  <tbody>\n",
       "    <tr>\n",
       "      <th>0</th>\n",
       "      <td>19</td>\n",
       "      <td>27.900</td>\n",
       "      <td>16884.92400</td>\n",
       "    </tr>\n",
       "    <tr>\n",
       "      <th>1</th>\n",
       "      <td>18</td>\n",
       "      <td>33.770</td>\n",
       "      <td>1725.55230</td>\n",
       "    </tr>\n",
       "    <tr>\n",
       "      <th>2</th>\n",
       "      <td>28</td>\n",
       "      <td>33.000</td>\n",
       "      <td>4449.46200</td>\n",
       "    </tr>\n",
       "    <tr>\n",
       "      <th>3</th>\n",
       "      <td>33</td>\n",
       "      <td>22.705</td>\n",
       "      <td>21984.47061</td>\n",
       "    </tr>\n",
       "    <tr>\n",
       "      <th>4</th>\n",
       "      <td>32</td>\n",
       "      <td>28.880</td>\n",
       "      <td>3866.85520</td>\n",
       "    </tr>\n",
       "  </tbody>\n",
       "</table>\n",
       "</div>"
      ],
      "text/plain": [
       "   age     bmi      charges\n",
       "0   19  27.900  16884.92400\n",
       "1   18  33.770   1725.55230\n",
       "2   28  33.000   4449.46200\n",
       "3   33  22.705  21984.47061\n",
       "4   32  28.880   3866.85520"
      ]
     },
     "execution_count": 2,
     "metadata": {},
     "output_type": "execute_result"
    }
   ],
   "source": [
    "# Reading the dataset\n",
    "df = pd.read_csv('insurance.txt')\n",
    "\n",
    "# Dropping 'children' column\n",
    "df.drop(columns = 'children', inplace = True)\n",
    "\n",
    "df.head()"
   ]
  },
  {
   "cell_type": "markdown",
   "metadata": {},
   "source": [
    "## Function to normalize dataset\n",
    "### normalize_dataset function normalizes the dataset by using the formula\n",
    "## $X_{normalized} = \\frac {X - min(X_i)} {max(X_i) - min(X_i)}$"
   ]
  },
  {
   "cell_type": "code",
   "execution_count": 3,
   "metadata": {},
   "outputs": [],
   "source": [
    "def normalize_dataset():\n",
    "\n",
    "    # normalize_coeff stores max and min of every column in dataset for denormalization\n",
    "    normalize_coeff = {col: {'max': df[col].max(), 'min': df[col].min()} for col in df.columns}\n",
    "\n",
    "    # normal_df is the normalized dataframe\n",
    "    normal_df = (df - df.min()) / (df.max() - df.min())\n",
    "\n",
    "    return pd.DataFrame(normal_df), normalize_coeff"
   ]
  },
  {
   "cell_type": "code",
   "execution_count": 4,
   "metadata": {},
   "outputs": [
    {
     "name": "stdout",
     "output_type": "stream",
     "text": [
      "        age       bmi   charges\n",
      "0  0.021739  0.321227  0.251611\n",
      "1  0.000000  0.479150  0.009636\n",
      "2  0.217391  0.458434  0.053115\n",
      "3  0.326087  0.181464  0.333010\n",
      "4  0.304348  0.347592  0.043816\n"
     ]
    }
   ],
   "source": [
    "normal_df, normalize_coeff = normalize_dataset()\n",
    "\n",
    "print(normal_df.head())\n",
    "# print()\n",
    "# print(normalize_coeff)"
   ]
  },
  {
   "cell_type": "markdown",
   "metadata": {},
   "source": [
    "## Function to shuffle the dataset and return $X_{train}, Y_{train}, X_{val}, Y_{val}, X_{test}, Y_{test}$ matrices "
   ]
  },
  {
   "cell_type": "code",
   "execution_count": 5,
   "metadata": {},
   "outputs": [],
   "source": [
    "from math import ceil\n",
    "def shuffle(dataframe, train_ratio, val_ratio, target):\n",
    "    \n",
    "    # Getting list of columns for X matrix\n",
    "    columns = list(dataframe.columns)\n",
    "    columns.remove(target)\n",
    "    \n",
    "    # Getting the max indices for training and validation set\n",
    "    train_idx = ceil(len(dataframe) * train_ratio)\n",
    "    val_idx = ceil(len(dataframe) * (train_ratio + val_ratio))\n",
    "    \n",
    "    # Shuffling the dataset\n",
    "    sf = dataframe.sample(frac = 1)\n",
    "    \n",
    "    # Dividing X and Y matrices\n",
    "    X = sf[columns]\n",
    "    Y = sf[target]\n",
    "    \n",
    "    # Generating train, validation and test sets\n",
    "    X_train = X.iloc[:train_idx].to_numpy().reshape((-1, len(columns)))\n",
    "    X_val = X.iloc[train_idx : val_idx].to_numpy().reshape((-1, len(columns)))\n",
    "    X_test = X.iloc[val_idx:].to_numpy().reshape((-1, len(columns)))\n",
    "    \n",
    "    Y_train = Y.iloc[:train_idx].to_numpy().reshape((-1, 1))\n",
    "    Y_val = Y.iloc[train_idx : val_idx].to_numpy().reshape((-1, 1))\n",
    "    Y_test = Y.iloc[val_idx:].to_numpy().reshape((-1, 1))\n",
    "    \n",
    "    return X_train, Y_train, X_val, Y_val, X_test, Y_test"
   ]
  },
  {
   "cell_type": "markdown",
   "metadata": {},
   "source": [
    "## Function to initialize weights"
   ]
  },
  {
   "cell_type": "code",
   "execution_count": 6,
   "metadata": {},
   "outputs": [],
   "source": [
    "def initialize_weights(X):\n",
    "    num_features = X.shape[1]\n",
    "    W = np.zeros((num_features, 1))\n",
    "    return W"
   ]
  },
  {
   "cell_type": "markdown",
   "metadata": {},
   "source": [
    "## Function to predict the results"
   ]
  },
  {
   "cell_type": "code",
   "execution_count": 7,
   "metadata": {},
   "outputs": [],
   "source": [
    "def predict(W, X):\n",
    "    predictions = X @ W         # '@' performs matrix multiplication\n",
    "    return predictions"
   ]
  },
  {
   "cell_type": "markdown",
   "metadata": {},
   "source": [
    "## Function to denormalize a column"
   ]
  },
  {
   "cell_type": "code",
   "execution_count": 8,
   "metadata": {},
   "outputs": [],
   "source": [
    "def denormalize(arr, name):\n",
    "    c = np.array(arr).flatten()\n",
    "    c = np.apply_along_axis(lambda x: x * (normalize_coeff[name]['max'] - normalize_coeff[name]['min']) + normalize_coeff[name]['min'], 0, c)\n",
    "    return c"
   ]
  },
  {
   "cell_type": "markdown",
   "metadata": {},
   "source": [
    "## Functions to calculate Error and Accuracy\n",
    "### Metric used for error -> MSE\n",
    "## $ MSE = \\frac {\\sum_{i=1}^{m}{(y_i - \\hat y_i)^2}} {2m} $"
   ]
  },
  {
   "cell_type": "code",
   "execution_count": 9,
   "metadata": {},
   "outputs": [],
   "source": [
    "def calculate_error(y, y_hat):\n",
    "    y = y.flatten()\n",
    "    y_hat = y_hat.flatten()\n",
    "    sq_err = np.sum((y - y_hat) ** 2)\n",
    "    mse = sq_err / (2 * len(y))\n",
    "    return mse"
   ]
  },
  {
   "cell_type": "markdown",
   "metadata": {},
   "source": [
    "### Metric used for accuracy -> $ R^2 $\n",
    "## $ R^2 = 1- \\frac {2 \\times MSE} {Var(Y)} $"
   ]
  },
  {
   "cell_type": "code",
   "execution_count": 10,
   "metadata": {},
   "outputs": [],
   "source": [
    "def calculate_accuracy(y, y_hat):\n",
    "    y = y.flatten()\n",
    "    y_hat = y_hat.flatten()\n",
    "    mse = calculate_error(y, y_hat)\n",
    "    var_y = np.var(y)\n",
    "    rMSE = 2 * mse / var_y\n",
    "    R2 = 1 - rMSE\n",
    "    return R2"
   ]
  },
  {
   "cell_type": "code",
   "execution_count": null,
   "metadata": {},
   "outputs": [],
   "source": []
  }
 ],
 "metadata": {
  "kernelspec": {
   "display_name": "Python 3",
   "language": "python",
   "name": "python3"
  },
  "language_info": {
   "codemirror_mode": {
    "name": "ipython",
    "version": 3
   },
   "file_extension": ".py",
   "mimetype": "text/x-python",
   "name": "python",
   "nbconvert_exporter": "python",
   "pygments_lexer": "ipython3",
   "version": "3.8.6"
  }
 },
 "nbformat": 4,
 "nbformat_minor": 4
}
