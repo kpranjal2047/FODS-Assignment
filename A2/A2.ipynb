{
 "cells": [
  {
   "cell_type": "markdown",
   "metadata": {},
   "source": [
    "# Initialization"
   ]
  },
  {
   "cell_type": "code",
   "execution_count": 1,
   "metadata": {},
   "outputs": [],
   "source": [
    "# Importing required modules\n",
    "import numpy as np\n",
    "import pandas as pd\n",
    "import matplotlib.pyplot as plt\n",
    "%matplotlib inline"
   ]
  },
  {
   "cell_type": "code",
   "execution_count": 2,
   "metadata": {},
   "outputs": [
    {
     "data": {
      "text/html": [
       "<div>\n",
       "<style scoped>\n",
       "    .dataframe tbody tr th:only-of-type {\n",
       "        vertical-align: middle;\n",
       "    }\n",
       "\n",
       "    .dataframe tbody tr th {\n",
       "        vertical-align: top;\n",
       "    }\n",
       "\n",
       "    .dataframe thead th {\n",
       "        text-align: right;\n",
       "    }\n",
       "</style>\n",
       "<table border=\"1\" class=\"dataframe\">\n",
       "  <thead>\n",
       "    <tr style=\"text-align: right;\">\n",
       "      <th></th>\n",
       "      <th>age</th>\n",
       "      <th>bmi</th>\n",
       "      <th>children</th>\n",
       "      <th>charges</th>\n",
       "    </tr>\n",
       "  </thead>\n",
       "  <tbody>\n",
       "    <tr>\n",
       "      <th>0</th>\n",
       "      <td>19</td>\n",
       "      <td>27.900</td>\n",
       "      <td>0</td>\n",
       "      <td>16884.92400</td>\n",
       "    </tr>\n",
       "    <tr>\n",
       "      <th>1</th>\n",
       "      <td>18</td>\n",
       "      <td>33.770</td>\n",
       "      <td>1</td>\n",
       "      <td>1725.55230</td>\n",
       "    </tr>\n",
       "    <tr>\n",
       "      <th>2</th>\n",
       "      <td>28</td>\n",
       "      <td>33.000</td>\n",
       "      <td>3</td>\n",
       "      <td>4449.46200</td>\n",
       "    </tr>\n",
       "    <tr>\n",
       "      <th>3</th>\n",
       "      <td>33</td>\n",
       "      <td>22.705</td>\n",
       "      <td>0</td>\n",
       "      <td>21984.47061</td>\n",
       "    </tr>\n",
       "    <tr>\n",
       "      <th>4</th>\n",
       "      <td>32</td>\n",
       "      <td>28.880</td>\n",
       "      <td>0</td>\n",
       "      <td>3866.85520</td>\n",
       "    </tr>\n",
       "  </tbody>\n",
       "</table>\n",
       "</div>"
      ],
      "text/plain": [
       "   age     bmi  children      charges\n",
       "0   19  27.900         0  16884.92400\n",
       "1   18  33.770         1   1725.55230\n",
       "2   28  33.000         3   4449.46200\n",
       "3   33  22.705         0  21984.47061\n",
       "4   32  28.880         0   3866.85520"
      ]
     },
     "execution_count": 2,
     "metadata": {},
     "output_type": "execute_result"
    }
   ],
   "source": [
    "# Reading the dataset\n",
    "df = pd.read_csv('insurance.txt')\n",
    "df.head()"
   ]
  },
  {
   "cell_type": "markdown",
   "metadata": {},
   "source": [
    "## Function to normalize dataset\n",
    "### normalize_dataset function normalizes the dataset by using the formula\n",
    "## $X_{normalized} = \\frac {X - min(X_i)} {max(X_i) - min(X_i)}$"
   ]
  },
  {
   "cell_type": "code",
   "execution_count": 3,
   "metadata": {},
   "outputs": [],
   "source": [
    "def normalize_dataset(dataset):\n",
    "\n",
    "    # normalize_coeff stores max and min of every column in dataset for denormalization\n",
    "    normalize_coeff = {col: {'max': dataset[col].max(), 'min': dataset[col].min()} for col in dataset.columns}\n",
    "\n",
    "    # normal_df is the normalized dataframe\n",
    "    normal_df = (dataset - dataset.min()) / (dataset.max() - dataset.min())\n",
    "\n",
    "    return pd.DataFrame(normal_df), normalize_coeff"
   ]
  },
  {
   "cell_type": "code",
   "execution_count": 4,
   "metadata": {},
   "outputs": [
    {
     "data": {
      "text/html": [
       "<div>\n",
       "<style scoped>\n",
       "    .dataframe tbody tr th:only-of-type {\n",
       "        vertical-align: middle;\n",
       "    }\n",
       "\n",
       "    .dataframe tbody tr th {\n",
       "        vertical-align: top;\n",
       "    }\n",
       "\n",
       "    .dataframe thead th {\n",
       "        text-align: right;\n",
       "    }\n",
       "</style>\n",
       "<table border=\"1\" class=\"dataframe\">\n",
       "  <thead>\n",
       "    <tr style=\"text-align: right;\">\n",
       "      <th></th>\n",
       "      <th>bias</th>\n",
       "      <th>age</th>\n",
       "      <th>bmi</th>\n",
       "      <th>children</th>\n",
       "      <th>charges</th>\n",
       "    </tr>\n",
       "  </thead>\n",
       "  <tbody>\n",
       "    <tr>\n",
       "      <th>0</th>\n",
       "      <td>1</td>\n",
       "      <td>0.021739</td>\n",
       "      <td>0.321227</td>\n",
       "      <td>0.0</td>\n",
       "      <td>0.251611</td>\n",
       "    </tr>\n",
       "    <tr>\n",
       "      <th>1</th>\n",
       "      <td>1</td>\n",
       "      <td>0.000000</td>\n",
       "      <td>0.479150</td>\n",
       "      <td>0.2</td>\n",
       "      <td>0.009636</td>\n",
       "    </tr>\n",
       "    <tr>\n",
       "      <th>2</th>\n",
       "      <td>1</td>\n",
       "      <td>0.217391</td>\n",
       "      <td>0.458434</td>\n",
       "      <td>0.6</td>\n",
       "      <td>0.053115</td>\n",
       "    </tr>\n",
       "    <tr>\n",
       "      <th>3</th>\n",
       "      <td>1</td>\n",
       "      <td>0.326087</td>\n",
       "      <td>0.181464</td>\n",
       "      <td>0.0</td>\n",
       "      <td>0.333010</td>\n",
       "    </tr>\n",
       "    <tr>\n",
       "      <th>4</th>\n",
       "      <td>1</td>\n",
       "      <td>0.304348</td>\n",
       "      <td>0.347592</td>\n",
       "      <td>0.0</td>\n",
       "      <td>0.043816</td>\n",
       "    </tr>\n",
       "  </tbody>\n",
       "</table>\n",
       "</div>"
      ],
      "text/plain": [
       "   bias       age       bmi  children   charges\n",
       "0     1  0.021739  0.321227       0.0  0.251611\n",
       "1     1  0.000000  0.479150       0.2  0.009636\n",
       "2     1  0.217391  0.458434       0.6  0.053115\n",
       "3     1  0.326087  0.181464       0.0  0.333010\n",
       "4     1  0.304348  0.347592       0.0  0.043816"
      ]
     },
     "execution_count": 4,
     "metadata": {},
     "output_type": "execute_result"
    }
   ],
   "source": [
    "normal_df, normalize_coeff = normalize_dataset(df)\n",
    "\n",
    "# Inserting bias column in dataframe\n",
    "normal_df.insert(0, 'bias', [1] * len(normal_df))\n",
    "\n",
    "normal_df.head()"
   ]
  },
  {
   "cell_type": "markdown",
   "metadata": {},
   "source": [
    "## Function to shuffle the dataset and return $X_{train}, Y_{train}, X_{test}, Y_{test}$ matrices "
   ]
  },
  {
   "cell_type": "code",
   "execution_count": 5,
   "metadata": {},
   "outputs": [],
   "source": [
    "from math import ceil\n",
    "def shuffle(dataframe, ratio, target):\n",
    "    \n",
    "    # Getting list of columns for X matrix\n",
    "    columns = list(dataframe.columns)\n",
    "    columns.remove(target)\n",
    "    \n",
    "    # Getting the max index for training set\n",
    "    train_len = ceil(len(dataframe) * ratio)\n",
    "    \n",
    "    # Shuffling the dataset\n",
    "    sf = dataframe.sample(frac = 1)\n",
    "    \n",
    "    # Dividing X and Y matrices\n",
    "    X = sf[columns]\n",
    "    Y = sf[target]\n",
    "    \n",
    "    # Generating train, validation and test sets\n",
    "    X_train = X.iloc[:train_len].to_numpy().reshape((-1, len(columns)))\n",
    "    X_test = X.iloc[train_len:].to_numpy().reshape((-1, len(columns)))\n",
    "    \n",
    "    Y_train = Y.iloc[:train_len].to_numpy().reshape((-1, 1))\n",
    "    Y_test = Y.iloc[train_len:].to_numpy().reshape((-1, 1))\n",
    "    \n",
    "    return X_train, Y_train, X_test, Y_test"
   ]
  },
  {
   "cell_type": "markdown",
   "metadata": {},
   "source": [
    "## Function to initialize weights"
   ]
  },
  {
   "cell_type": "code",
   "execution_count": 6,
   "metadata": {},
   "outputs": [],
   "source": [
    "def initialize_weights(X):\n",
    "    num_features = X.shape[1]\n",
    "    W = np.zeros((num_features, 1))\n",
    "    return W"
   ]
  },
  {
   "cell_type": "markdown",
   "metadata": {},
   "source": [
    "## Function to predict the results"
   ]
  },
  {
   "cell_type": "code",
   "execution_count": 7,
   "metadata": {},
   "outputs": [],
   "source": [
    "def predict(W, X):\n",
    "    predictions = X @ W         # '@' performs matrix multiplication\n",
    "    return predictions"
   ]
  },
  {
   "cell_type": "markdown",
   "metadata": {},
   "source": [
    "## Function to normalize a value"
   ]
  },
  {
   "cell_type": "code",
   "execution_count": 8,
   "metadata": {},
   "outputs": [],
   "source": [
    "def normalize(value, name):\n",
    "    nc = normalize_coeff[name]\n",
    "    out = (value - nc['min']) / (nc['max'] - nc['min'])\n",
    "    return out"
   ]
  },
  {
   "cell_type": "markdown",
   "metadata": {},
   "source": [
    "## Function to denormalize a value"
   ]
  },
  {
   "cell_type": "code",
   "execution_count": 9,
   "metadata": {},
   "outputs": [],
   "source": [
    "def denormalize(value, name):\n",
    "    nc = normalize_coeff[name]\n",
    "    out = value * (nc['max'] - nc['min']) + nc['min']\n",
    "    return out"
   ]
  },
  {
   "cell_type": "markdown",
   "metadata": {},
   "source": [
    "## Functions to calculate Error and Accuracy\n",
    "### Metric used for error -> MSE\n",
    "## $ MSE = \\frac {\\sum_{i=1}^{m}{(y_i - \\hat y_i)^2}} {2m} $"
   ]
  },
  {
   "cell_type": "code",
   "execution_count": 10,
   "metadata": {},
   "outputs": [],
   "source": [
    "def calculate_error(y, y_hat):\n",
    "    y = y.flatten()\n",
    "    y_hat = y_hat.flatten()\n",
    "    sq_err = np.sum((y - y_hat) ** 2)\n",
    "    mse = sq_err / (2 * len(y))\n",
    "    return mse"
   ]
  },
  {
   "cell_type": "markdown",
   "metadata": {},
   "source": [
    "### Metric used for accuracy -> $ R^2 $\n",
    "## $ R^2 = 1- \\frac {2 \\times MSE} {Var(Y)} $"
   ]
  },
  {
   "cell_type": "code",
   "execution_count": 11,
   "metadata": {},
   "outputs": [],
   "source": [
    "def calculate_accuracy(y, y_hat):\n",
    "    y = y.flatten()\n",
    "    y_hat = y_hat.flatten()\n",
    "    mse = calculate_error(y, y_hat)\n",
    "    var_y = np.var(y)\n",
    "    rMSE = 2 * mse / var_y\n",
    "    R2 = 1 - rMSE\n",
    "    return R2"
   ]
  },
  {
   "cell_type": "markdown",
   "metadata": {},
   "source": [
    "# Building Normal Equation Model\n",
    "## Function to generate weight matrix W using normal equation\n",
    "### $ W = (X^TX)^{-1}X^TY $"
   ]
  },
  {
   "cell_type": "code",
   "execution_count": 12,
   "metadata": {},
   "outputs": [],
   "source": [
    "def get_weight_by_equations(X, Y):\n",
    "    W = np.linalg.inv(X.T @ X) @ X.T @ Y    # '@' performs matrix multiplication\n",
    "    return W"
   ]
  },
  {
   "cell_type": "markdown",
   "metadata": {},
   "source": [
    "## Generating the model 20 times with different train-test split"
   ]
  },
  {
   "cell_type": "code",
   "execution_count": 13,
   "metadata": {},
   "outputs": [],
   "source": [
    "W_normal = {}\n",
    "train_accuracy_normal = {}\n",
    "test_accuracy_normal = {}\n",
    "train_cost_normal = {}\n",
    "test_cost_normal = {}\n",
    "\n",
    "for i in range(1, 21):\n",
    "    X_train, Y_train, X_test, Y_test = shuffle(normal_df, ratio = 0.7, target = 'charges')\n",
    "    W_normal[i] = get_weight_by_equations(X_train, Y_train)\n",
    "    train_predictions = predict(W_normal[i], X_train)\n",
    "    test_predictions = predict(W_normal[i], X_test)\n",
    "    train_accuracy_normal[i] = calculate_accuracy(Y_train, train_predictions)\n",
    "    test_accuracy_normal[i] = calculate_accuracy(Y_test, test_predictions)\n",
    "    train_cost_normal[i] = calculate_error(Y_train, train_predictions)\n",
    "    test_cost_normal[i] = calculate_error(Y_test, test_predictions)"
   ]
  },
  {
   "cell_type": "markdown",
   "metadata": {},
   "source": [
    "## Analyzing the models\n",
    "### Analyzing costs"
   ]
  },
  {
   "cell_type": "code",
   "execution_count": 14,
   "metadata": {},
   "outputs": [
    {
     "name": "stdout",
     "output_type": "stream",
     "text": [
      "Mean train cost = 0.01641183708883813\n",
      "Variance train cost = 2.954623951256763e-07\n",
      "Max train cost = 0.017464995196974448\n",
      "Min train cost = 0.015462605252278718\n",
      "\n",
      "Mean test cost = 0.016534668300305956\n",
      "Variance test cost = 1.6278320443356039e-06\n",
      "Max test cost = 0.018779540513717906\n",
      "Min test cost = 0.014073268373621132\n"
     ]
    }
   ],
   "source": [
    "train_mean_cost_normal = np.mean(list(train_cost_normal.values()))\n",
    "train_var_cost_normal = np.var(list(train_cost_normal.values()))\n",
    "train_max_cost_normal = np.max(list(train_cost_normal.values()))\n",
    "train_min_cost_normal = np.min(list(train_cost_normal.values()))\n",
    "\n",
    "test_mean_cost_normal = np.mean(list(test_cost_normal.values()))\n",
    "test_var_cost_normal = np.var(list(test_cost_normal.values()))\n",
    "test_max_cost_normal = np.max(list(test_cost_normal.values()))\n",
    "test_min_cost_normal = np.min(list(test_cost_normal.values()))\n",
    "\n",
    "print(f'Mean train cost = {train_mean_cost_normal}')\n",
    "print(f'Variance train cost = {train_var_cost_normal}')\n",
    "print(f'Max train cost = {train_max_cost_normal}')\n",
    "print(f'Min train cost = {train_min_cost_normal}')\n",
    "print()\n",
    "print(f'Mean test cost = {test_mean_cost_normal}')\n",
    "print(f'Variance test cost = {test_var_cost_normal}')\n",
    "print(f'Max test cost = {test_max_cost_normal}')\n",
    "print(f'Min test cost = {test_min_cost_normal}')"
   ]
  },
  {
   "cell_type": "markdown",
   "metadata": {},
   "source": [
    "### Analyzing accuracies"
   ]
  },
  {
   "cell_type": "code",
   "execution_count": 15,
   "metadata": {},
   "outputs": [
    {
     "name": "stdout",
     "output_type": "stream",
     "text": [
      "Mean train accuracy = 0.12219135236608396\n",
      "Variance train accuracy = 0.00016501768175132512\n",
      "Max train accuracy = 0.1390050537897468\n",
      "Min train accuracy = 0.09219562516102475\n",
      "\n",
      "Mean test accuracy = 0.10995705915849718\n",
      "Variance test accuracy = 0.0009497830994676786\n",
      "Max test accuracy = 0.1799669650735204\n",
      "Min test accuracy = 0.06779912269816879\n"
     ]
    }
   ],
   "source": [
    "train_mean_accuracy_normal = np.mean(list(train_accuracy_normal.values()))\n",
    "train_var_accuracy_normal = np.var(list(train_accuracy_normal.values()))\n",
    "train_max_accuracy_normal = np.max(list(train_accuracy_normal.values()))\n",
    "train_min_accuracy_normal = np.min(list(train_accuracy_normal.values()))\n",
    "\n",
    "test_mean_accuracy_normal = np.mean(list(test_accuracy_normal.values()))\n",
    "test_var_accuracy_normal = np.var(list(test_accuracy_normal.values()))\n",
    "test_max_accuracy_normal = np.max(list(test_accuracy_normal.values()))\n",
    "test_min_accuracy_normal = np.min(list(test_accuracy_normal.values()))\n",
    "\n",
    "print(f'Mean train accuracy = {train_mean_accuracy_normal}')\n",
    "print(f'Variance train accuracy = {train_var_accuracy_normal}')\n",
    "print(f'Max train accuracy = {train_max_accuracy_normal}')\n",
    "print(f'Min train accuracy = {train_min_accuracy_normal}')\n",
    "print()\n",
    "print(f'Mean test accuracy = {test_mean_accuracy_normal}')\n",
    "print(f'Variance test accuracy = {test_var_accuracy_normal}')\n",
    "print(f'Max test accuracy = {test_max_accuracy_normal}')\n",
    "print(f'Min test accuracy = {test_min_accuracy_normal}')"
   ]
  },
  {
   "cell_type": "markdown",
   "metadata": {},
   "source": [
    "### Finding best model"
   ]
  },
  {
   "cell_type": "code",
   "execution_count": 16,
   "metadata": {},
   "outputs": [
    {
     "name": "stdout",
     "output_type": "stream",
     "text": [
      "Best Normal Model is 18\n"
     ]
    }
   ],
   "source": [
    "best_normal_model = np.argmin(list(test_cost_normal.values())) + 1\n",
    "print(f'Best Normal Model is {best_normal_model}')"
   ]
  },
  {
   "cell_type": "markdown",
   "metadata": {},
   "source": [
    "## Visualizing the results\n",
    "### Cost vs model number plot"
   ]
  },
  {
   "cell_type": "code",
   "execution_count": 17,
   "metadata": {},
   "outputs": [
    {
     "data": {
      "image/png": "[encoded data removed]",
      "text/plain": [
       "<Figure size 720x720 with 1 Axes>"
      ]
     },
     "metadata": {
      "needs_background": "light"
     },
     "output_type": "display_data"
    }
   ],
   "source": [
    "plt.figure(figsize = (10, 10))\n",
    "plt.plot(list(train_cost_normal.keys()), list(train_cost_normal.values()), 'b-', label = 'Train Cost')\n",
    "plt.plot(list(test_cost_normal.keys()), list(test_cost_normal.values()), 'r-', label = 'Test Cost')\n",
    "plt.plot(list(train_cost_normal.keys()), [train_mean_cost_normal] * len(train_cost_normal), 'b--', label = 'Mean Train Cost')\n",
    "plt.plot(list(test_cost_normal.keys()), [test_mean_cost_normal] * len(test_cost_normal), 'r--', label = 'Mean Test Cost')\n",
    "plt.xlabel('Model number')\n",
    "plt.ylabel('Cost')\n",
    "plt.legend()\n",
    "plt.xticks(list(train_cost_normal.keys()));"
   ]
  },
  {
   "cell_type": "markdown",
   "metadata": {},
   "source": [
    "### Accuracy vs model number plot"
   ]
  },
  {
   "cell_type": "code",
   "execution_count": 18,
   "metadata": {},
   "outputs": [
    {
     "data": {
      "image/png": "[encoded data removed]",
      "text/plain": [
       "<Figure size 720x720 with 1 Axes>"
      ]
     },
     "metadata": {
      "needs_background": "light"
     },
     "output_type": "display_data"
    }
   ],
   "source": [
    "plt.figure(figsize = (10, 10))\n",
    "plt.plot(list(train_accuracy_normal.keys()), list(train_accuracy_normal.values()), 'b-', label = 'Train Accuracy')\n",
    "plt.plot(list(test_accuracy_normal.keys()), list(test_accuracy_normal.values()), 'r-', label = 'Test Accuracy')\n",
    "plt.plot(list(train_accuracy_normal.keys()), [train_mean_accuracy_normal] * len(train_accuracy_normal), 'b--', label = 'Mean Train Accuracy')\n",
    "plt.plot(list(test_accuracy_normal.keys()), [test_mean_accuracy_normal] * len(test_accuracy_normal), 'r--', label = 'Mean Test Accuracy')\n",
    "plt.xlabel('Model number')\n",
    "plt.ylabel('Accuracy')\n",
    "plt.legend()\n",
    "plt.xticks(list(train_accuracy_normal.keys()));"
   ]
  },
  {
   "cell_type": "markdown",
   "metadata": {},
   "source": [
    "# Building Gradient Descent model\n",
    "## Function for finding W using Gradient Descent"
   ]
  },
  {
   "cell_type": "code",
   "execution_count": 19,
   "metadata": {},
   "outputs": [],
   "source": [
    "def gradient_descent(X, y, W, eta = 0.1, num_iterations = 1000):\n",
    "    print_space = num_iterations // 5 if num_iterations > 5 else 1\n",
    "    m = len(X)\n",
    "    J = {}\n",
    "    accuracy = {}\n",
    "    for i in range(1, num_iterations + 1):\n",
    "        dW = (1 / m) * (X.T @ (X @ W - y))\n",
    "        W = W - (eta * dW)\n",
    "        prediction = predict(W, X)\n",
    "        cost = calculate_error(y, prediction)\n",
    "        J[i] = cost\n",
    "        acc = calculate_accuracy(y, prediction)\n",
    "        accuracy[i] = acc\n",
    "        if i == 1 or i % print_space == 0:\n",
    "            print(f'Cost after {i} iterations is {cost}, accuracy = {acc}')\n",
    "    return W, J, accuracy"
   ]
  },
  {
   "cell_type": "markdown",
   "metadata": {},
   "source": [
    "## Function for analyzing models"
   ]
  },
  {
   "cell_type": "code",
   "execution_count": 20,
   "metadata": {},
   "outputs": [],
   "source": [
    "def analyze_cost_accuracy(train_cost_dict, test_cost_dict, train_acc_dict, test_acc_dict):\n",
    "    \n",
    "    train_costs = [list(x.values())[-1] for x in list(train_cost_dict.values())]\n",
    "    test_costs = list(test_cost_dict.values())\n",
    "    \n",
    "    train_accuracies = [list(x.values())[-1] for x in list(train_acc_dict.values())]\n",
    "    test_accuracies = list(test_acc_dict.values())\n",
    "\n",
    "    train_mean_cost = np.mean(train_costs)\n",
    "    train_var_cost = np.var(train_costs)\n",
    "    train_max_cost = np.max(train_costs)\n",
    "    train_min_cost = np.min(train_costs)\n",
    "\n",
    "    test_mean_cost = np.mean(test_costs)\n",
    "    test_var_cost = np.var(test_costs)\n",
    "    test_max_cost = np.max(test_costs)\n",
    "    test_min_cost = np.min(test_costs)\n",
    "    \n",
    "    train_mean_accuracy = np.mean(train_accuracies)\n",
    "    train_var_accuracy = np.var(train_accuracies)\n",
    "    train_max_accuracy = np.max(train_accuracies)\n",
    "    train_min_accuracy = np.min(train_accuracies)\n",
    "\n",
    "    test_mean_accuracy = np.mean(test_accuracies)\n",
    "    test_var_accuracy = np.var(test_accuracies)\n",
    "    test_max_accuracy = np.max(test_accuracies)\n",
    "    test_min_accuracy = np.min(test_accuracies)\n",
    "    \n",
    "    best_model_number = np.argmin(test_costs) + 1\n",
    "\n",
    "    print(f'Mean train cost = {train_mean_cost}')\n",
    "    print(f'Variance train cost = {train_var_cost}')\n",
    "    print(f'Max train cost = {train_max_cost}')\n",
    "    print(f'Min train cost = {train_min_cost}')\n",
    "    print()\n",
    "    print(f'Mean test cost = {test_mean_cost}')\n",
    "    print(f'Variance test cost = {test_var_cost}')\n",
    "    print(f'Max test cost = {test_max_cost}')\n",
    "    print(f'Min test cost = {test_min_cost}')\n",
    "    print()\n",
    "    print(f'Mean train accuracy = {train_mean_accuracy}')\n",
    "    print(f'Variance train accuracy = {train_var_accuracy}')\n",
    "    print(f'Max train accuracy = {train_max_accuracy}')\n",
    "    print(f'Min train accuracy = {train_min_accuracy}')\n",
    "    print()\n",
    "    print(f'Mean test accuracy = {test_mean_accuracy}')\n",
    "    print(f'Variance test accuracy = {test_var_accuracy}')\n",
    "    print(f'Max test accuracy = {test_max_accuracy}')\n",
    "    print(f'Min test accuracy = {test_min_accuracy}')\n",
    "    print()\n",
    "    print(f'Best model number is {best_model_number}')\n",
    "    \n",
    "    return best_model_number"
   ]
  },
  {
   "cell_type": "markdown",
   "metadata": {},
   "source": [
    "## Function for generating and analyzing 20 models with different train-test split"
   ]
  },
  {
   "cell_type": "code",
   "execution_count": 21,
   "metadata": {
    "scrolled": true
   },
   "outputs": [],
   "source": [
    "def generate_gd_models(eta, num_iterations = 10000):\n",
    "    temp_W_gd = {}\n",
    "    temp_train_cost_gd = {}\n",
    "    temp_train_accuracy_gd = {}\n",
    "    temp_test_cost_gd = {}\n",
    "    temp_test_accuracy_gd = {}\n",
    "\n",
    "    for i in range(1, 21):\n",
    "        print(f'Training model {i}')\n",
    "        X_train, Y_train, X_test, Y_test = shuffle(normal_df, ratio = 0.7, target = 'charges')\n",
    "        W_init = initialize_weights(X_train)\n",
    "        temp_W_gd[i], temp_train_cost_gd[i], temp_train_accuracy_gd[i] = \\\n",
    "                                                                gradient_descent(X_train, Y_train, W_init, eta, num_iterations)\n",
    "        predictions = predict(temp_W_gd[i], X_test)\n",
    "        temp_test_cost_gd[i] = calculate_error(Y_test, predictions)\n",
    "        temp_test_accuracy_gd[i] = calculate_accuracy(Y_test, predictions)\n",
    "        print()\n",
    "        print(f'Test Cost = {temp_test_cost_gd[i]}, test accuracy = {temp_test_accuracy_gd[i]}')\n",
    "        print()\n",
    "        \n",
    "    best_model = analyze_cost_accuracy(temp_train_cost_gd, temp_test_cost_gd, temp_train_accuracy_gd, temp_test_accuracy_gd)\n",
    "    \n",
    "    return temp_W_gd[best_model], temp_train_cost_gd[best_model], temp_train_accuracy_gd[best_model], \\\n",
    "                                                                temp_test_cost_gd[best_model], temp_test_accuracy_gd[best_model]"
   ]
  },
  {
   "cell_type": "markdown",
   "metadata": {},
   "source": [
    "## Applying Gradient Descent"
   ]
  },
  {
   "cell_type": "code",
   "execution_count": 22,
   "metadata": {},
   "outputs": [],
   "source": [
    "# Initializing important variables\n",
    "W_gd = {}\n",
    "train_cost_gd = {}\n",
    "train_accuracy_gd = {}\n",
    "test_cost_gd = {}\n",
    "test_accuracy_gd = {}"
   ]
  },
  {
   "cell_type": "markdown",
   "metadata": {},
   "source": [
    "### Learning Rate = 0.001"
   ]
  },
  {
   "cell_type": "code",
   "execution_count": 23,
   "metadata": {
    "scrolled": true
   },
   "outputs": [
    {
     "name": "stdout",
     "output_type": "stream",
     "text": [
      "Training model 1\n",
      "Cost after 1 iterations is 0.03801115399131591, accuracy = -0.9870179815066225\n",
      "Cost after 2000 iterations is 0.01776398762499668, accuracy = 0.0713946005902999\n",
      "Cost after 4000 iterations is 0.01756266654460788, accuracy = 0.08191858012747144\n",
      "Cost after 6000 iterations is 0.01745656074051565, accuracy = 0.08746521890412229\n",
      "Cost after 8000 iterations is 0.017373511652816285, accuracy = 0.09180657698664885\n",
      "Cost after 10000 iterations is 0.01730774773070862, accuracy = 0.09524435990142655\n",
      "\n",
      "Test Cost = 0.015552678757057245, test accuracy = 0.11578116754466772\n",
      "\n",
      "Training model 2\n",
      "Cost after 1 iterations is 0.03815935276814758, accuracy = -0.995628017928498\n",
      "Cost after 2000 iterations is 0.017723875937227653, accuracy = 0.07309058354510334\n",
      "Cost after 4000 iterations is 0.017531125642214228, accuracy = 0.08317088788176008\n",
      "Cost after 6000 iterations is 0.01743137485124077, accuracy = 0.08838757681478959\n",
      "Cost after 8000 iterations is 0.017352918305940167, accuracy = 0.09249063592438878\n",
      "Cost after 10000 iterations is 0.017290383581857884, accuracy = 0.09576102806731324\n",
      "\n",
      "Test Cost = 0.015592790601407624, test accuracy = 0.11412264117576343\n",
      "\n",
      "Training model 3\n",
      "Cost after 1 iterations is 0.033793373943665724, accuracy = -0.9917047361917248\n",
      "Cost after 2000 iterations is 0.015749020126611224, accuracy = 0.07178851011324017\n",
      "Cost after 4000 iterations is 0.015564101615618742, accuracy = 0.0826871873144931\n",
      "Cost after 6000 iterations is 0.015468188158165983, accuracy = 0.08834010873606046\n",
      "Cost after 8000 iterations is 0.015395277742749812, accuracy = 0.09263728308580643\n",
      "Cost after 10000 iterations is 0.015339387521549059, accuracy = 0.09593132583092889\n",
      "\n",
      "Test Cost = 0.02039993563240193, test accuracy = 0.08273275237897282\n",
      "\n",
      "Training model 4\n",
      "Cost after 1 iterations is 0.03761883298730539, accuracy = -0.9762712570585288\n",
      "Cost after 2000 iterations is 0.01744601810800158, accuracy = 0.08348926856394268\n",
      "Cost after 4000 iterations is 0.017201747113860143, accuracy = 0.09632182359875041\n",
      "Cost after 6000 iterations is 0.017066355475246583, accuracy = 0.10343450048397773\n",
      "Cost after 8000 iterations is 0.016962587278412294, accuracy = 0.10888586854926563\n",
      "Cost after 10000 iterations is 0.01688221571581202, accuracy = 0.11310811566430512\n",
      "\n",
      "Test Cost = 0.01637877937850668, test accuracy = 0.080320670383769\n",
      "\n",
      "Training model 5\n",
      "Cost after 1 iterations is 0.037941853584982616, accuracy = -1.0224083230163763\n",
      "Cost after 2000 iterations is 0.017284898839114743, accuracy = 0.07866590659772654\n",
      "Cost after 4000 iterations is 0.01708611865833906, accuracy = 0.08926145357465531\n",
      "Cost after 6000 iterations is 0.016978992435625867, accuracy = 0.09497158484020374\n",
      "Cost after 8000 iterations is 0.016895004103251173, accuracy = 0.09944840097809737\n",
      "Cost after 10000 iterations is 0.016828392546267074, accuracy = 0.10299898574201738\n",
      "\n",
      "Test Cost = 0.01659487196947512, test accuracy = 0.09974991670749256\n",
      "\n",
      "Training model 6\n",
      "Cost after 1 iterations is 0.03744261213315061, accuracy = -1.0329805003116879\n",
      "Cost after 2000 iterations is 0.016898039835164688, accuracy = 0.08250563939783351\n",
      "Cost after 4000 iterations is 0.01668624514187544, accuracy = 0.0940052238818262\n",
      "Cost after 6000 iterations is 0.016572812996046085, accuracy = 0.10016412486233284\n",
      "Cost after 8000 iterations is 0.01648508837868195, accuracy = 0.10492721232707447\n",
      "Cost after 10000 iterations is 0.016416592028483556, accuracy = 0.1086462836301304\n",
      "\n",
      "Test Cost = 0.01759452026703491, test accuracy = 0.08585599433614943\n",
      "\n",
      "Training model 7\n",
      "Cost after 1 iterations is 0.037537553738590676, accuracy = -1.002783109026823\n",
      "Cost after 2000 iterations is 0.017277786960451437, accuracy = 0.07815889850644264\n",
      "Cost after 4000 iterations is 0.017081251467852297, accuracy = 0.0886448765657204\n",
      "Cost after 6000 iterations is 0.016976261642877133, accuracy = 0.0942465161809245\n",
      "Cost after 8000 iterations is 0.01689384623628014, accuracy = 0.09864371759169055\n",
      "Cost after 10000 iterations is 0.01682843350632314, accuracy = 0.10213375616973797\n",
      "\n",
      "Test Cost = 0.01662990542595469, test accuracy = 0.10085608594326756\n",
      "\n",
      "Training model 8\n",
      "Cost after 1 iterations is 0.03804847193517056, accuracy = -0.9894989244700723\n",
      "Cost after 2000 iterations is 0.017529691871112925, accuracy = 0.08339806173310393\n",
      "Cost after 4000 iterations is 0.01728901391866582, accuracy = 0.0959827597034465\n",
      "Cost after 6000 iterations is 0.017155618568137552, accuracy = 0.10295780739675431\n",
      "Cost after 8000 iterations is 0.017053440544630975, accuracy = 0.10830054673769751\n",
      "Cost after 10000 iterations is 0.016974396210302948, accuracy = 0.11243365932101002\n",
      "\n",
      "Test Cost = 0.016176439991827076, test accuracy = 0.08086700824618664\n",
      "\n",
      "Training model 9\n",
      "Cost after 1 iterations is 0.03552087037224233, accuracy = -1.0045009370611457\n",
      "Cost after 2000 iterations is 0.01643747393709031, accuracy = 0.0724064032067322\n",
      "Cost after 4000 iterations is 0.016247761201141016, accuracy = 0.08311220385287732\n",
      "Cost after 6000 iterations is 0.01615105412025277, accuracy = 0.08856954293915209\n",
      "Cost after 8000 iterations is 0.016077796869562375, accuracy = 0.09270356967094562\n",
      "Cost after 10000 iterations is 0.016021832541502155, accuracy = 0.0958617284340364\n",
      "\n",
      "Test Cost = 0.018661691106847254, test accuracy = 0.10231001689582953\n",
      "\n",
      "Training model 10\n",
      "Cost after 1 iterations is 0.03663606802747936, accuracy = -1.012051080157621\n",
      "Cost after 2000 iterations is 0.01689549441123586, accuracy = 0.07210026593394059\n",
      "Cost after 4000 iterations is 0.016713462410091494, accuracy = 0.08209745461289641\n",
      "Cost after 6000 iterations is 0.01662242112694292, accuracy = 0.08709743747024423\n",
      "Cost after 8000 iterations is 0.016552894560596932, accuracy = 0.0909158331237071\n",
      "Cost after 10000 iterations is 0.01649919490809789, accuracy = 0.09386501543589576\n",
      "\n",
      "Test Cost = 0.017511501568334687, test accuracy = 0.11260807552270935\n",
      "\n",
      "Training model 11\n",
      "Cost after 1 iterations is 0.03828252721077918, accuracy = -0.9740790975045692\n",
      "Cost after 2000 iterations is 0.01776611302291931, accuracy = 0.08387154877869174\n",
      "Cost after 4000 iterations is 0.01752134573045926, accuracy = 0.09649323368308116\n",
      "Cost after 6000 iterations is 0.01738330143423973, accuracy = 0.10361163415325625\n",
      "Cost after 8000 iterations is 0.017277522893278274, accuracy = 0.10906621674982386\n",
      "Cost after 10000 iterations is 0.01719566787265456, accuracy = 0.11328715765974318\n",
      "\n",
      "Test Cost = 0.015611485956945292, test accuracy = 0.08030861921751609\n",
      "\n",
      "Training model 12\n",
      "Cost after 1 iterations is 0.03833907866901871, accuracy = -1.0187684870838458\n",
      "Cost after 2000 iterations is 0.01766020397199496, accuracy = 0.07009076660607971\n",
      "Cost after 4000 iterations is 0.017484067313804207, accuracy = 0.0793653539806346\n",
      "Cost after 6000 iterations is 0.017397246540070306, accuracy = 0.0839369568496382\n",
      "Cost after 8000 iterations is 0.017328901814370884, accuracy = 0.08753569169904585\n",
      "Cost after 10000 iterations is 0.017274438790161075, accuracy = 0.09040347675812965\n",
      "\n",
      "Test Cost = 0.015718645111093905, test accuracy = 0.12074253485784525\n",
      "\n",
      "Training model 13\n",
      "Cost after 1 iterations is 0.03659171678437659, accuracy = -0.98350363862558\n",
      "Cost after 2000 iterations is 0.0169580458775016, accuracy = 0.08076612255685389\n",
      "Cost after 4000 iterations is 0.016735316605846755, accuracy = 0.09283946482059913\n",
      "Cost after 6000 iterations is 0.0166123586481276, accuracy = 0.09950456768994698\n",
      "Cost after 8000 iterations is 0.016518099887972964, accuracy = 0.10461399162981755\n",
      "Cost after 10000 iterations is 0.016445159959921286, accuracy = 0.10856779936024263\n",
      "\n",
      "Test Cost = 0.017457953549373323, test accuracy = 0.08816445344142931\n",
      "\n",
      "Training model 14\n",
      "Cost after 1 iterations is 0.037782094804441675, accuracy = -0.9739656306416986\n",
      "Cost after 2000 iterations is 0.017525283419204053, accuracy = 0.08437297307568248\n",
      "Cost after 4000 iterations is 0.017292769886788125, accuracy = 0.09652088927841718\n",
      "Cost after 6000 iterations is 0.017160513001487358, accuracy = 0.10343079057824522\n",
      "Cost after 8000 iterations is 0.01705725048839442, accuracy = 0.10882585013844681\n",
      "Cost after 10000 iterations is 0.016975657716225247, accuracy = 0.1130887510920433\n",
      "\n",
      "Test Cost = 0.016111428394777666, test accuracy = 0.08278732502996478\n",
      "\n",
      "Training model 15\n",
      "Cost after 1 iterations is 0.03664688451449397, accuracy = -0.9993649112317977\n"
     ]
    },
    {
     "name": "stdout",
     "output_type": "stream",
     "text": [
      "Cost after 2000 iterations is 0.016916107729436636, accuracy = 0.07709829424992198\n",
      "Cost after 4000 iterations is 0.016716012081724616, accuracy = 0.0880150262511753\n",
      "Cost after 6000 iterations is 0.016610231582535443, accuracy = 0.0937861530788261\n",
      "Cost after 8000 iterations is 0.016528942101506686, accuracy = 0.09822110950620966\n",
      "Cost after 10000 iterations is 0.016465729474603973, accuracy = 0.10166983672683028\n",
      "\n",
      "Test Cost = 0.01748289561404126, test accuracy = 0.10078685907012397\n",
      "\n",
      "Training model 16\n",
      "Cost after 1 iterations is 0.040677423455811774, accuracy = -1.0337082462448919\n",
      "Cost after 2000 iterations is 0.018430261418855256, accuracy = 0.07856074835487603\n",
      "Cost after 4000 iterations is 0.01822147021812639, accuracy = 0.08899947211344794\n",
      "Cost after 6000 iterations is 0.018111682797432017, accuracy = 0.09448840341320552\n",
      "Cost after 8000 iterations is 0.01802589823077637, accuracy = 0.09877728815040265\n",
      "Cost after 10000 iterations is 0.017958035210377317, accuracy = 0.10217016735649509\n",
      "\n",
      "Test Cost = 0.014073065008234466, test accuracy = 0.07311819868667813\n",
      "\n",
      "Training model 17\n",
      "Cost after 1 iterations is 0.039393192216168875, accuracy = -0.9936986104545167\n",
      "Cost after 2000 iterations is 0.018256074976914293, accuracy = 0.07605580390389488\n",
      "Cost after 4000 iterations is 0.01805049471043396, accuracy = 0.08646026895383518\n",
      "Cost after 6000 iterations is 0.017937825739924095, accuracy = 0.09216247172821856\n",
      "Cost after 8000 iterations is 0.017846806485977845, accuracy = 0.09676897731734335\n",
      "Cost after 10000 iterations is 0.017772312532413053, accuracy = 0.10053913361476641\n",
      "\n",
      "Test Cost = 0.014408839091126436, test accuracy = 0.10170818566345041\n",
      "\n",
      "Training model 18\n",
      "Cost after 1 iterations is 0.03661804946752829, accuracy = -0.986792752946082\n",
      "Cost after 2000 iterations is 0.01700457943271445, accuracy = 0.07737917024302055\n",
      "Cost after 4000 iterations is 0.01680190913330378, accuracy = 0.08837549276597745\n",
      "Cost after 6000 iterations is 0.016693454803780986, accuracy = 0.09425992077497314\n",
      "Cost after 8000 iterations is 0.016609883654109835, accuracy = 0.09879425717290868\n",
      "Cost after 10000 iterations is 0.016544851878759415, accuracy = 0.10232269907126823\n",
      "\n",
      "Test Cost = 0.017293077013700902, test accuracy = 0.09893005751820172\n",
      "\n",
      "Training model 19\n",
      "Cost after 1 iterations is 0.03721531737407796, accuracy = -0.9756770252566547\n",
      "Cost after 2000 iterations is 0.017161102525603104, accuracy = 0.08895588214104211\n",
      "Cost after 4000 iterations is 0.016901028948559393, accuracy = 0.10276260010818417\n",
      "Cost after 6000 iterations is 0.016750217465411596, accuracy = 0.11076884064094727\n",
      "Cost after 8000 iterations is 0.016636774002113393, accuracy = 0.11679129751941308\n",
      "Cost after 10000 iterations is 0.016550988334991554, accuracy = 0.12134546455567174\n",
      "\n",
      "Test Cost = 0.017122849851317894, test accuracy = 0.06236921863514122\n",
      "\n",
      "Training model 20\n",
      "Cost after 1 iterations is 0.038201528022685186, accuracy = -1.0231882463857964\n",
      "Cost after 2000 iterations is 0.017552579041880973, accuracy = 0.07039918428909231\n",
      "Cost after 4000 iterations is 0.017373699745916585, accuracy = 0.07987279720064933\n",
      "Cost after 6000 iterations is 0.017283865679658873, accuracy = 0.08463049241299048\n",
      "Cost after 8000 iterations is 0.017214407958855916, accuracy = 0.08830903752945385\n",
      "Cost after 10000 iterations is 0.017160133742141467, accuracy = 0.09118345023025631\n",
      "\n",
      "Test Cost = 0.015954163972964727, test accuracy = 0.12031908187528373\n",
      "\n",
      "Mean train cost = 0.016836577590157668\n",
      "Variance train cost = 3.3400611275115553e-07\n",
      "Max train cost = 0.017958035210377317\n",
      "Min train cost = 0.015339387521549059\n",
      "\n",
      "Mean test cost = 0.016616375913121158\n",
      "Variance test cost = 1.9355447109076412e-06\n",
      "Max test cost = 0.02039993563240193\n",
      "Min test cost = 0.014073065008234466\n",
      "\n",
      "Mean train accuracy = 0.10302810973111243\n",
      "Variance train accuracy = 7.015727427438704e-05\n",
      "Max train accuracy = 0.12134546455567174\n",
      "Min train accuracy = 0.09040347675812965\n",
      "\n",
      "Mean test accuracy = 0.09522194315652213\n",
      "Variance test accuracy = 0.00026095822121710436\n",
      "Max test accuracy = 0.12074253485784525\n",
      "Min test accuracy = 0.06236921863514122\n",
      "\n",
      "Best model number is 16\n"
     ]
    }
   ],
   "source": [
    "eta = 0.001\n",
    "W_gd[eta], train_cost_gd[eta], train_accuracy_gd[eta], test_cost_gd[eta], test_accuracy_gd[eta] = generate_gd_models(eta)"
   ]
  },
  {
   "cell_type": "markdown",
   "metadata": {},
   "source": [
    "### Learning Rate = 0.01"
   ]
  },
  {
   "cell_type": "code",
   "execution_count": 24,
   "metadata": {
    "scrolled": true
   },
   "outputs": [
    {
     "name": "stdout",
     "output_type": "stream",
     "text": [
      "Training model 1\n",
      "Cost after 1 iterations is 0.03939139135358302, accuracy = -0.9596370204085287\n",
      "Cost after 2000 iterations is 0.017570202220952985, accuracy = 0.12592021898429906\n",
      "Cost after 4000 iterations is 0.017419064638883916, accuracy = 0.13343898871596638\n",
      "Cost after 6000 iterations is 0.017370271504724224, accuracy = 0.13586634222533645\n",
      "Cost after 8000 iterations is 0.017351576017696352, accuracy = 0.1367964025059072\n",
      "Cost after 10000 iterations is 0.017344249989878786, accuracy = 0.13716085663739452\n",
      "\n",
      "Test Cost = 0.01437657687933492, test accuracy = 0.05399306456215014\n",
      "\n",
      "Training model 2\n",
      "Cost after 1 iterations is 0.036096645908721275, accuracy = -0.9761324762490307\n",
      "Cost after 2000 iterations is 0.016533935599320936, accuracy = 0.09483980365793676\n",
      "Cost after 4000 iterations is 0.016431262837245372, accuracy = 0.10046068544503628\n",
      "Cost after 6000 iterations is 0.016396977025619264, accuracy = 0.10233768271509391\n",
      "Cost after 8000 iterations is 0.016383842795518876, accuracy = 0.10305672399991406\n",
      "Cost after 10000 iterations is 0.01637870685144011, accuracy = 0.1033378943312494\n",
      "\n",
      "Test Cost = 0.01662863389384484, test accuracy = 0.15119414124279273\n",
      "\n",
      "Training model 3\n",
      "Cost after 1 iterations is 0.035774763093344965, accuracy = -0.9731285843109962\n",
      "Cost after 2000 iterations is 0.015900423264732573, accuracy = 0.12302481041100977\n",
      "Cost after 4000 iterations is 0.015786768511973064, accuracy = 0.12929334783856583\n",
      "Cost after 6000 iterations is 0.01575200269587705, accuracy = 0.13121082875428725\n",
      "Cost after 8000 iterations is 0.015739029151025208, accuracy = 0.13192637429459508\n",
      "Cost after 10000 iterations is 0.015734050543188702, accuracy = 0.13220096544720883\n",
      "\n",
      "Test Cost = 0.018122386227804134, test accuracy = 0.08875033953781164\n",
      "\n",
      "Training model 4\n",
      "Cost after 1 iterations is 0.03691981376293746, accuracy = -0.9600369080710478\n",
      "Cost after 2000 iterations is 0.016722197947140967, accuracy = 0.11223481865531404\n",
      "Cost after 4000 iterations is 0.016600731464687962, accuracy = 0.11868335575331135\n",
      "Cost after 6000 iterations is 0.016562379249233625, accuracy = 0.12071943747028513\n",
      "Cost after 8000 iterations is 0.016547795410092825, accuracy = 0.12149367926795196\n",
      "Cost after 10000 iterations is 0.01654208713596705, accuracy = 0.1217967259745184\n",
      "\n",
      "Test Cost = 0.016166765087344055, test accuracy = 0.11534102751168085\n",
      "\n",
      "Training model 5\n",
      "Cost after 1 iterations is 0.03584039029929751, accuracy = -1.0014737116824968\n",
      "Cost after 2000 iterations is 0.0159426050983719, accuracy = 0.1096998460769516\n",
      "Cost after 4000 iterations is 0.015855225734872948, accuracy = 0.11457946645848882\n",
      "Cost after 6000 iterations is 0.015829137656263648, accuracy = 0.11603633127186797\n",
      "Cost after 8000 iterations is 0.01581912747566706, accuracy = 0.11659534062265775\n",
      "Cost after 10000 iterations is 0.015815149913279418, accuracy = 0.11681746394466852\n",
      "\n",
      "Test Cost = 0.017938693901957632, test accuracy = 0.12231526540153348\n",
      "\n",
      "Training model 6\n",
      "Cost after 1 iterations is 0.03587064920835975, accuracy = -0.9623031678594898\n",
      "Cost after 2000 iterations is 0.01621424943067508, accuracy = 0.11299979999072507\n",
      "Cost after 4000 iterations is 0.016112205499061307, accuracy = 0.11858211128660978\n",
      "Cost after 6000 iterations is 0.016078826595989016, accuracy = 0.12040810353051834\n",
      "Cost after 8000 iterations is 0.016065442584181043, accuracy = 0.12114027563637841\n",
      "Cost after 10000 iterations is 0.016059946800203662, accuracy = 0.12144092239206006\n",
      "\n",
      "Test Cost = 0.017316616027680032, test accuracy = 0.1133969811811345\n",
      "\n",
      "Training model 7\n",
      "Cost after 1 iterations is 0.03418695322376995, accuracy = -0.9747618277861274\n",
      "Cost after 2000 iterations is 0.015293471994735026, accuracy = 0.11659385053007976\n",
      "Cost after 4000 iterations is 0.015200418102841763, accuracy = 0.12196897923590388\n",
      "Cost after 6000 iterations is 0.015173183501918123, accuracy = 0.12354214809792452\n",
      "Cost after 8000 iterations is 0.01516300543801076, accuracy = 0.12413006981044072\n",
      "Cost after 10000 iterations is 0.015159067348224491, accuracy = 0.12435754809238697\n",
      "\n",
      "Test Cost = 0.019523027225491686, test accuracy = 0.09740472967437097\n",
      "\n",
      "Training model 8\n",
      "Cost after 1 iterations is 0.03542010722893084, accuracy = -0.9478156684066472\n",
      "Cost after 2000 iterations is 0.016197085690093902, accuracy = 0.10929300451351842\n",
      "Cost after 4000 iterations is 0.016117711205655104, accuracy = 0.11365795077023977\n",
      "Cost after 6000 iterations is 0.01609670148798351, accuracy = 0.11481331309043363\n",
      "Cost after 8000 iterations is 0.016088869201680917, accuracy = 0.11524402466002404\n",
      "Cost after 10000 iterations is 0.01608579309714908, accuracy = 0.11541318520395016\n",
      "\n",
      "Test Cost = 0.01746040302580608, test accuracy = 0.1131553450998839\n",
      "\n",
      "Training model 9\n",
      "Cost after 1 iterations is 0.03677698143678057, accuracy = -0.9635452577923302\n",
      "Cost after 2000 iterations is 0.016599163825060024, accuracy = 0.11376061496395085\n",
      "Cost after 4000 iterations is 0.01648844613653111, accuracy = 0.1196718992448097\n",
      "Cost after 6000 iterations is 0.016454926174209236, accuracy = 0.12146155028432293\n",
      "Cost after 8000 iterations is 0.016442417799041736, accuracy = 0.12212937999147411\n",
      "Cost after 10000 iterations is 0.016437594101198973, accuracy = 0.12238692013354546\n",
      "\n",
      "Test Cost = 0.016431521726469254, test accuracy = 0.11286219564108835\n",
      "\n",
      "Training model 10\n",
      "Cost after 1 iterations is 0.03949139995302943, accuracy = -0.9778021944329851\n",
      "Cost after 2000 iterations is 0.01765372682819611, accuracy = 0.11586877896820891\n",
      "Cost after 4000 iterations is 0.017537741240053202, accuracy = 0.12167755128381397\n",
      "Cost after 6000 iterations is 0.017502128270353152, accuracy = 0.12346111453320019\n",
      "Cost after 8000 iterations is 0.017488859411511876, accuracy = 0.12412564347279487\n",
      "Cost after 10000 iterations is 0.017483784661313402, accuracy = 0.12437979632862373\n",
      "\n",
      "Test Cost = 0.014032816217399118, test accuracy = 0.09192462280853109\n",
      "\n",
      "Training model 11\n",
      "Cost after 1 iterations is 0.03595498725943549, accuracy = -1.0038544433177585\n",
      "Cost after 2000 iterations is 0.015982602045350774, accuracy = 0.10925269161509699\n",
      "Cost after 4000 iterations is 0.015874910459382437, accuracy = 0.11525459231091639\n",
      "Cost after 6000 iterations is 0.0158395038286899, accuracy = 0.11722788557686059\n",
      "Cost after 8000 iterations is 0.0158258243126606, accuracy = 0.11799027658481609\n",
      "Cost after 10000 iterations is 0.01582043247229612, accuracy = 0.11829077629558116\n",
      "\n",
      "Test Cost = 0.017876845951325503, test accuracy = 0.12193750196312902\n",
      "\n",
      "Training model 12\n",
      "Cost after 1 iterations is 0.03502026770165246, accuracy = -0.9779237922249433\n",
      "Cost after 2000 iterations is 0.015717685894675763, accuracy = 0.11227449331203554\n",
      "Cost after 4000 iterations is 0.015623681728065237, accuracy = 0.11758379246677797\n",
      "Cost after 6000 iterations is 0.015594762806539144, accuracy = 0.11921711587307637\n",
      "Cost after 8000 iterations is 0.015583626131689123, accuracy = 0.11984610861350287\n",
      "Cost after 10000 iterations is 0.015579206507658355, accuracy = 0.12009572633766241\n",
      "\n",
      "Test Cost = 0.018470227392037786, test accuracy = 0.11306825984984614\n",
      "\n",
      "Training model 13\n",
      "Cost after 1 iterations is 0.0382916914742885, accuracy = -0.9612172676295523\n",
      "Cost after 2000 iterations is 0.01705128862641325, accuracy = 0.12667003201173088\n",
      "Cost after 4000 iterations is 0.01690069228467954, accuracy = 0.13438324953956748\n",
      "Cost after 6000 iterations is 0.01685133772813684, accuracy = 0.13691108272742059\n",
      "Cost after 8000 iterations is 0.016831955619295902, accuracy = 0.13790379224424743\n",
      "Cost after 10000 iterations is 0.016824149744770176, accuracy = 0.1383035921830692\n",
      "\n",
      "Test Cost = 0.01555807626315173, test accuracy = 0.06482284595953614\n",
      "\n",
      "Training model 14\n",
      "Cost after 1 iterations is 0.03947077623237861, accuracy = -0.9507765471174194\n",
      "Cost after 2000 iterations is 0.017719296652188868, accuracy = 0.12425364687531026\n",
      "Cost after 4000 iterations is 0.017546126461876078, accuracy = 0.1328122914769062\n",
      "Cost after 6000 iterations is 0.017487359044367535, accuracy = 0.13571677197496845\n",
      "Cost after 8000 iterations is 0.017464553294889253, accuracy = 0.13684390768062948\n",
      "Cost after 10000 iterations is 0.017455562771213663, accuracy = 0.137288249150617\n",
      "\n",
      "Test Cost = 0.014244129616641347, test accuracy = 0.04419692345819248\n",
      "\n",
      "Training model 15\n",
      "Cost after 1 iterations is 0.03697025719306881, accuracy = -0.9734410621172671\n"
     ]
    },
    {
     "name": "stdout",
     "output_type": "stream",
     "text": [
      "Cost after 2000 iterations is 0.01640349418859109, accuracy = 0.1243953531370997\n",
      "Cost after 4000 iterations is 0.016284164680902085, accuracy = 0.13076506133701626\n",
      "Cost after 6000 iterations is 0.016248270461558842, accuracy = 0.13268106440874716\n",
      "Cost after 8000 iterations is 0.016234830746888293, accuracy = 0.13339846501149366\n",
      "Cost after 10000 iterations is 0.016229639728661024, accuracy = 0.13367555717426638\n",
      "\n",
      "Test Cost = 0.016921660768176524, test accuracy = 0.08610791730144407\n",
      "\n",
      "Training model 16\n",
      "Cost after 1 iterations is 0.03366964184345667, accuracy = -0.9830263496732972\n",
      "Cost after 2000 iterations is 0.015110634443339344, accuracy = 0.11003549129685375\n",
      "Cost after 4000 iterations is 0.01504607800208319, accuracy = 0.11383764412780129\n",
      "Cost after 6000 iterations is 0.015029968917887477, accuracy = 0.11478641390021915\n",
      "Cost after 8000 iterations is 0.015023855090516337, accuracy = 0.11514649734959748\n",
      "Cost after 10000 iterations is 0.015021350417501507, accuracy = 0.11529401399408146\n",
      "\n",
      "Test Cost = 0.020015179594017652, test accuracy = 0.10426469311688413\n",
      "\n",
      "Training model 17\n",
      "Cost after 1 iterations is 0.03698571465608676, accuracy = -0.9638314796939778\n",
      "Cost after 2000 iterations is 0.016629221103145835, accuracy = 0.11703780259996055\n",
      "Cost after 4000 iterations is 0.016496119160856616, accuracy = 0.12410511998740392\n",
      "Cost after 6000 iterations is 0.016451861517978634, accuracy = 0.12645506923426886\n",
      "Cost after 8000 iterations is 0.016434629915000807, accuracy = 0.12737001611817012\n",
      "Cost after 10000 iterations is 0.01642778646676121, accuracy = 0.1277333828722681\n",
      "\n",
      "Test Cost = 0.01645617065514841, test accuracy = 0.09991695687059698\n",
      "\n",
      "Training model 18\n",
      "Cost after 1 iterations is 0.03599626482807977, accuracy = -0.9440874580892997\n",
      "Cost after 2000 iterations is 0.01636922546839829, accuracy = 0.11593033100132699\n",
      "Cost after 4000 iterations is 0.016270526158517314, accuracy = 0.12126088658474943\n",
      "Cost after 6000 iterations is 0.01624213850703975, accuracy = 0.12279404780205139\n",
      "Cost after 8000 iterations is 0.01623163607626978, accuracy = 0.12336126342947462\n",
      "Cost after 10000 iterations is 0.016227591197303243, accuracy = 0.12357971938611045\n",
      "\n",
      "Test Cost = 0.01698636399990949, test accuracy = 0.1042728498831399\n",
      "\n",
      "Training model 19\n",
      "Cost after 1 iterations is 0.0361363025331265, accuracy = -0.9642413737649014\n",
      "Cost after 2000 iterations is 0.016516059221761102, accuracy = 0.10224553756724197\n",
      "Cost after 4000 iterations is 0.016408501124586305, accuracy = 0.10809201464830165\n",
      "Cost after 6000 iterations is 0.01637270124271339, accuracy = 0.11003796938692523\n",
      "Cost after 8000 iterations is 0.01635871812432682, accuracy = 0.11079804215983757\n",
      "Cost after 10000 iterations is 0.016353140340015677, accuracy = 0.1111012307527447\n",
      "\n",
      "Test Cost = 0.016628006315074044, test accuracy = 0.13736383181774503\n",
      "\n",
      "Training model 20\n",
      "Cost after 1 iterations is 0.03674923747454821, accuracy = -1.0008193126445808\n",
      "Cost after 2000 iterations is 0.016620834983025686, accuracy = 0.09507543797749807\n",
      "Cost after 4000 iterations is 0.01652994520339811, accuracy = 0.10002394953578031\n",
      "Cost after 6000 iterations is 0.016498735141584796, accuracy = 0.10172318736263763\n",
      "Cost after 8000 iterations is 0.016486226026510196, accuracy = 0.10240424854227936\n",
      "Cost after 10000 iterations is 0.016481107022582292, accuracy = 0.10268295369711555\n",
      "\n",
      "Test Cost = 0.016388657137299086, test accuracy = 0.1539420096998877\n",
      "\n",
      "Mean train cost = 0.016273019855530348\n",
      "Variance train cost = 4.2891362338108696e-07\n",
      "Max train cost = 0.017483784661313402\n",
      "Min train cost = 0.015021350417501507\n",
      "\n",
      "Mean test cost = 0.016877137895295668\n",
      "Variance test cost = 2.393433058049509e-06\n",
      "Max test cost = 0.020015179594017652\n",
      "Min test cost = 0.014032816217399118\n",
      "\n",
      "Mean train accuracy = 0.12236687401645611\n",
      "Variance train accuracy = 9.934865995402785e-05\n",
      "Max train accuracy = 0.1383035921830692\n",
      "Min train accuracy = 0.10268295369711555\n",
      "\n",
      "Mean test accuracy = 0.10451157512906897\n",
      "Variance test accuracy = 0.0007659438732698235\n",
      "Max test accuracy = 0.1539420096998877\n",
      "Min test accuracy = 0.04419692345819248\n",
      "\n",
      "Best model number is 10\n"
     ]
    }
   ],
   "source": [
    "eta = 0.01\n",
    "W_gd[eta], train_cost_gd[eta], train_accuracy_gd[eta], test_cost_gd[eta], test_accuracy_gd[eta] = generate_gd_models(eta)"
   ]
  },
  {
   "cell_type": "markdown",
   "metadata": {},
   "source": [
    "### Learning Rate = 0.1"
   ]
  },
  {
   "cell_type": "code",
   "execution_count": 25,
   "metadata": {
    "scrolled": true
   },
   "outputs": [
    {
     "name": "stdout",
     "output_type": "stream",
     "text": [
      "Training model 1\n",
      "Cost after 1 iterations is 0.031033232516558554, accuracy = -0.7170128202801267\n",
      "Cost after 2000 iterations is 0.01573994508514026, accuracy = 0.1291372084016459\n",
      "Cost after 4000 iterations is 0.01573990475030272, accuracy = 0.12913944005550693\n",
      "Cost after 6000 iterations is 0.015739904745115815, accuracy = 0.12913944034248892\n",
      "Cost after 8000 iterations is 0.01573990474511515, accuracy = 0.12913944034252578\n",
      "Cost after 10000 iterations is 0.01573990474511515, accuracy = 0.12913944034252578\n",
      "\n",
      "Test Cost = 0.01812306653244937, test accuracy = 0.09459093939354091\n",
      "\n",
      "Training model 2\n",
      "Cost after 1 iterations is 0.033094680338718804, accuracy = -0.7442113195374591\n",
      "Cost after 2000 iterations is 0.017156733933608555, accuracy = 0.0957770485463173\n",
      "Cost after 4000 iterations is 0.017156708597098964, accuracy = 0.09577838387351723\n",
      "Cost after 6000 iterations is 0.017156708594145465, accuracy = 0.09577838402917738\n",
      "Cost after 8000 iterations is 0.017156708594145118, accuracy = 0.0957783840291957\n",
      "Cost after 10000 iterations is 0.017156708594145118, accuracy = 0.0957783840291957\n",
      "\n",
      "Test Cost = 0.014846452615921012, test accuracy = 0.1691856675171629\n",
      "\n",
      "Training model 3\n",
      "Cost after 1 iterations is 0.03327536641283974, accuracy = -0.6947713357928151\n",
      "Cost after 2000 iterations is 0.016914995866369888, accuracy = 0.13849032393175753\n",
      "Cost after 4000 iterations is 0.016914971204241167, accuracy = 0.13849158001616302\n",
      "Cost after 6000 iterations is 0.016914971202688873, accuracy = 0.138491580095224\n",
      "Cost after 8000 iterations is 0.016914971202688776, accuracy = 0.13849158009522888\n",
      "Cost after 10000 iterations is 0.016914971202688776, accuracy = 0.13849158009522888\n",
      "\n",
      "Test Cost = 0.01534784297611835, test accuracy = 0.06372925072235414\n",
      "\n",
      "Training model 4\n",
      "Cost after 1 iterations is 0.03380803736287204, accuracy = -0.7191313621110724\n",
      "Cost after 2000 iterations is 0.01693292525017825, accuracy = 0.13896442619788374\n",
      "Cost after 4000 iterations is 0.01693286951030341, accuracy = 0.13896726055842146\n",
      "Cost after 6000 iterations is 0.016932869505189584, accuracy = 0.13896726081845845\n",
      "Cost after 8000 iterations is 0.016932869505189112, accuracy = 0.13896726081848243\n",
      "Cost after 10000 iterations is 0.016932869505189112, accuracy = 0.13896726081848243\n",
      "\n",
      "Test Cost = 0.015435155937014939, test accuracy = 0.04865887999095864\n",
      "\n",
      "Training model 5\n",
      "Cost after 1 iterations is 0.03141882874934683, accuracy = -0.732389137624571\n",
      "Cost after 2000 iterations is 0.01602397194212148, accuracy = 0.11646117824461388\n",
      "Cost after 4000 iterations is 0.016023945748531485, accuracy = 0.11646262252158368\n",
      "Cost after 6000 iterations is 0.01602394574638294, accuracy = 0.11646262264005147\n",
      "Cost after 8000 iterations is 0.016023945746382762, accuracy = 0.11646262264006113\n",
      "Cost after 10000 iterations is 0.016023945746382762, accuracy = 0.11646262264006113\n",
      "\n",
      "Test Cost = 0.01739779597169552, test accuracy = 0.1261835923904293\n",
      "\n",
      "Training model 6\n",
      "Cost after 1 iterations is 0.032334749367115646, accuracy = -0.7070609821642211\n",
      "Cost after 2000 iterations is 0.01659881376554767, accuracy = 0.12369237789133414\n",
      "Cost after 4000 iterations is 0.016598759640198326, accuracy = 0.12369523535192439\n",
      "Cost after 6000 iterations is 0.016598759634360503, accuracy = 0.12369523566012286\n",
      "Cost after 8000 iterations is 0.01659875963435987, accuracy = 0.12369523566015617\n",
      "Cost after 10000 iterations is 0.01659875963435987, accuracy = 0.12369523566015617\n",
      "\n",
      "Test Cost = 0.01611958215025724, test accuracy = 0.10596881571811734\n",
      "\n",
      "Training model 7\n",
      "Cost after 1 iterations is 0.03054668849860293, accuracy = -0.7097310750399393\n",
      "Cost after 2000 iterations is 0.015603658311122896, accuracy = 0.12664642846467078\n",
      "Cost after 4000 iterations is 0.015603636922626205, accuracy = 0.1266476256018807\n",
      "Cost after 6000 iterations is 0.01560363692092407, accuracy = 0.12664762569715105\n",
      "Cost after 8000 iterations is 0.015603636920923937, accuracy = 0.12664762569715848\n",
      "Cost after 10000 iterations is 0.015603636920923935, accuracy = 0.1266476256971586\n",
      "\n",
      "Test Cost = 0.018452715700295424, test accuracy = 0.09710067242801645\n",
      "\n",
      "Training model 8\n",
      "Cost after 1 iterations is 0.031922709072539156, accuracy = -0.728783442146298\n",
      "Cost after 2000 iterations is 0.016375819392650752, accuracy = 0.11316281606105405\n",
      "Cost after 4000 iterations is 0.016375793718128168, accuracy = 0.1131642064721694\n",
      "Cost after 6000 iterations is 0.016375793715615077, accuracy = 0.11316420660826654\n",
      "Cost after 8000 iterations is 0.016375793715614834, accuracy = 0.11316420660827975\n",
      "Cost after 10000 iterations is 0.016375793715614834, accuracy = 0.11316420660827975\n",
      "\n",
      "Test Cost = 0.016562438743416417, test accuracy = 0.13480991179568136\n",
      "\n",
      "Training model 9\n",
      "Cost after 1 iterations is 0.030355107015934926, accuracy = -0.7239667258549691\n",
      "Cost after 2000 iterations is 0.015701473898114215, accuracy = 0.10826146872025733\n",
      "Cost after 4000 iterations is 0.01570145445223085, accuracy = 0.10826257311616205\n",
      "Cost after 6000 iterations is 0.015701454450324843, accuracy = 0.10826257322441046\n",
      "Cost after 8000 iterations is 0.015701454450324656, accuracy = 0.10826257322442112\n",
      "Cost after 10000 iterations is 0.015701454450324656, accuracy = 0.10826257322442112\n",
      "\n",
      "Test Cost = 0.018276139041934474, test accuracy = 0.13148531693773258\n",
      "\n",
      "Training model 10\n",
      "Cost after 1 iterations is 0.03272895741924326, accuracy = -0.6989208304992582\n",
      "Cost after 2000 iterations is 0.01675404942439929, accuracy = 0.13031743731651735\n",
      "Cost after 4000 iterations is 0.01675400933487289, accuracy = 0.13031951831563426\n",
      "Cost after 6000 iterations is 0.016754009329543917, accuracy = 0.13031951859225488\n",
      "Cost after 8000 iterations is 0.01675400932954321, accuracy = 0.13031951859229163\n",
      "Cost after 10000 iterations is 0.01675400932954321, accuracy = 0.13031951859229163\n",
      "\n",
      "Test Cost = 0.015759671024406195, test accuracy = 0.08773773215318958\n",
      "\n",
      "Training model 11\n",
      "Cost after 1 iterations is 0.03323589071877806, accuracy = -0.719040118920498\n",
      "Cost after 2000 iterations is 0.016957675558076445, accuracy = 0.12290827844427621\n",
      "Cost after 4000 iterations is 0.016957634393559934, accuracy = 0.12291040757197003\n",
      "Cost after 6000 iterations is 0.016957634388493934, accuracy = 0.12291040783399565\n",
      "Cost after 8000 iterations is 0.01695763438849331, accuracy = 0.12291040783402796\n",
      "Cost after 10000 iterations is 0.01695763438849331, accuracy = 0.12291040783402796\n",
      "\n",
      "Test Cost = 0.015209996034693777, test accuracy = 0.10845452433494396\n",
      "\n",
      "Training model 12\n",
      "Cost after 1 iterations is 0.030976180466514836, accuracy = -0.713134907063173\n",
      "Cost after 2000 iterations is 0.015681017951624424, accuracy = 0.13276269615449732\n",
      "Cost after 4000 iterations is 0.015681002227790557, accuracy = 0.13276356575973158\n",
      "Cost after 6000 iterations is 0.015681002226884448, accuracy = 0.13276356580984383\n",
      "Cost after 8000 iterations is 0.015681002226884396, accuracy = 0.13276356580984672\n",
      "Cost after 10000 iterations is 0.015681002226884396, accuracy = 0.13276356580984672\n",
      "\n",
      "Test Cost = 0.01826381686145569, test accuracy = 0.08650318442777594\n",
      "\n",
      "Training model 13\n",
      "Cost after 1 iterations is 0.0334237892129572, accuracy = -0.7451062844493512\n",
      "Cost after 2000 iterations is 0.01683102336680067, accuracy = 0.12122696609960404\n",
      "Cost after 4000 iterations is 0.016830981491136626, accuracy = 0.1212291524909801\n",
      "Cost after 6000 iterations is 0.01683098148721163, accuracy = 0.12122915269590995\n",
      "Cost after 8000 iterations is 0.016830981487211263, accuracy = 0.12122915269592915\n",
      "Cost after 10000 iterations is 0.016830981487211263, accuracy = 0.12122915269592915\n",
      "\n",
      "Test Cost = 0.015553097246516273, test accuracy = 0.10548237551832629\n",
      "\n",
      "Training model 14\n",
      "Cost after 1 iterations is 0.031940443651097654, accuracy = -0.7146324319301727\n",
      "Cost after 2000 iterations is 0.016519432280562504, accuracy = 0.11320097320084377\n",
      "Cost after 4000 iterations is 0.01651940570469139, accuracy = 0.11320239985136304\n",
      "Cost after 6000 iterations is 0.016519405702677202, accuracy = 0.113202399959489\n",
      "Cost after 8000 iterations is 0.01651940570267705, accuracy = 0.11320239995949721\n",
      "Cost after 10000 iterations is 0.01651940570267705, accuracy = 0.11320239995949721\n",
      "\n",
      "Test Cost = 0.016232744077614505, test accuracy = 0.13467809233097539\n",
      "\n",
      "Training model 15\n",
      "Cost after 1 iterations is 0.03012408832740238, accuracy = -0.736857627682155\n"
     ]
    },
    {
     "name": "stdout",
     "output_type": "stream",
     "text": [
      "Cost after 2000 iterations is 0.015086803134323637, accuracy = 0.1301436638879816\n",
      "Cost after 4000 iterations is 0.015086776296410306, accuracy = 0.13014521127537382\n",
      "Cost after 6000 iterations is 0.015086776292826206, accuracy = 0.13014521148202152\n",
      "Cost after 8000 iterations is 0.015086776292825732, accuracy = 0.13014521148204883\n",
      "Cost after 10000 iterations is 0.015086776292825729, accuracy = 0.13014521148204905\n",
      "\n",
      "Test Cost = 0.019769103366641234, test accuracy = 0.08867763996844658\n",
      "\n",
      "Training model 16\n",
      "Cost after 1 iterations is 0.03007177154627474, accuracy = -0.7143773163234663\n",
      "Cost after 2000 iterations is 0.015368757001729088, accuracy = 0.12383451226651332\n",
      "Cost after 4000 iterations is 0.01536872215677804, accuracy = 0.12383649876051062\n",
      "Cost after 6000 iterations is 0.015368722153247761, accuracy = 0.12383649896177007\n",
      "Cost after 8000 iterations is 0.015368722153247406, accuracy = 0.12383649896179039\n",
      "Cost after 10000 iterations is 0.015368722153247404, accuracy = 0.12383649896179039\n",
      "\n",
      "Test Cost = 0.018957410232118943, test accuracy = 0.10300819774111014\n",
      "\n",
      "Training model 17\n",
      "Cost after 1 iterations is 0.0320472481245173, accuracy = -0.7291778233095634\n",
      "Cost after 2000 iterations is 0.016323229335747525, accuracy = 0.11924524494266997\n",
      "Cost after 4000 iterations is 0.016323188683993517, accuracy = 0.11924743839501373\n",
      "Cost after 6000 iterations is 0.01632318867934255, accuracy = 0.11924743864596654\n",
      "Cost after 8000 iterations is 0.016323188679342016, accuracy = 0.11924743864599541\n",
      "Cost after 10000 iterations is 0.016323188679342016, accuracy = 0.11924743864599541\n",
      "\n",
      "Test Cost = 0.0166710042844831, test accuracy = 0.12175736702276463\n",
      "\n",
      "Training model 18\n",
      "Cost after 1 iterations is 0.033040640858928605, accuracy = -0.7492790626524461\n",
      "Cost after 2000 iterations is 0.016829176888713743, accuracy = 0.10900860250275457\n",
      "Cost after 4000 iterations is 0.016829151437808797, accuracy = 0.10900994995649604\n",
      "Cost after 6000 iterations is 0.016829151435764998, accuracy = 0.10900995006470138\n",
      "Cost after 8000 iterations is 0.01682915143576483, accuracy = 0.10900995006471026\n",
      "Cost after 10000 iterations is 0.016829151435764834, accuracy = 0.10900995006471004\n",
      "\n",
      "Test Cost = 0.015594941496520206, test accuracy = 0.1359602982825292\n",
      "\n",
      "Training model 19\n",
      "Cost after 1 iterations is 0.03216385968976503, accuracy = -0.694684432666169\n",
      "Cost after 2000 iterations is 0.01648212765423375, accuracy = 0.1315717260843906\n",
      "Cost after 4000 iterations is 0.016482099152902937, accuracy = 0.131573227793517\n",
      "Cost after 6000 iterations is 0.016482099150225422, accuracy = 0.1315732279345928\n",
      "Cost after 8000 iterations is 0.016482099150225173, accuracy = 0.13157322793460602\n",
      "Cost after 10000 iterations is 0.01648209915022517, accuracy = 0.13157322793460613\n",
      "\n",
      "Test Cost = 0.016330368269270437, test accuracy = 0.08922235745422158\n",
      "\n",
      "Training model 20\n",
      "Cost after 1 iterations is 0.03160138911494246, accuracy = -0.7168936650919389\n",
      "Cost after 2000 iterations is 0.016320411264222037, accuracy = 0.11331712003796968\n",
      "Cost after 4000 iterations is 0.016320384719890356, accuracy = 0.11331856218327341\n",
      "Cost after 6000 iterations is 0.016320384717115027, accuracy = 0.11331856233405624\n",
      "Cost after 8000 iterations is 0.016320384717114736, accuracy = 0.113318562334072\n",
      "Cost after 10000 iterations is 0.016320384717114736, accuracy = 0.113318562334072\n",
      "\n",
      "Test Cost = 0.016698326692869407, test accuracy = 0.13341103004107924\n",
      "\n",
      "Mean train cost = 0.01631007000390367\n",
      "Variance train cost = 3.4219392811674187e-07\n",
      "Max train cost = 0.017156708594145118\n",
      "Min train cost = 0.015086776292825729\n",
      "\n",
      "Mean test cost = 0.016780083462784624\n",
      "Variance test cost = 1.905854572901112e-06\n",
      "Max test cost = 0.019769103366641234\n",
      "Min test cost = 0.014846452615921012\n",
      "\n",
      "Mean train accuracy = 0.12190824317151625\n",
      "Variance train accuracy = 0.00011485501258505248\n",
      "Max train accuracy = 0.13896726081848243\n",
      "Min train accuracy = 0.0957783840291957\n",
      "\n",
      "Mean test accuracy = 0.1083302923084678\n",
      "Variance test accuracy = 0.0007542521961162278\n",
      "Max test accuracy = 0.1691856675171629\n",
      "Min test accuracy = 0.04865887999095864\n",
      "\n",
      "Best model number is 2\n"
     ]
    }
   ],
   "source": [
    "eta = 0.1\n",
    "W_gd[eta], train_cost_gd[eta], train_accuracy_gd[eta], test_cost_gd[eta], test_accuracy_gd[eta] = generate_gd_models(eta)"
   ]
  },
  {
   "cell_type": "markdown",
   "metadata": {},
   "source": [
    "## Finding best learning rate"
   ]
  },
  {
   "cell_type": "code",
   "execution_count": 26,
   "metadata": {},
   "outputs": [
    {
     "name": "stdout",
     "output_type": "stream",
     "text": [
      "Best eta for GD is 0.01\n"
     ]
    }
   ],
   "source": [
    "best_eta_gd = min(test_cost_gd, key = test_cost_gd.get)\n",
    "print(f'Best eta for GD is {best_eta_gd}')"
   ]
  },
  {
   "cell_type": "markdown",
   "metadata": {},
   "source": [
    "## Visualizing the results\n",
    "### Cost vs iterations plot"
   ]
  },
  {
   "cell_type": "code",
   "execution_count": 27,
   "metadata": {},
   "outputs": [
    {
     "data": {
      "image/png": "[encoded data removed]",
      "text/plain": [
       "<Figure size 720x720 with 1 Axes>"
      ]
     },
     "metadata": {
      "needs_background": "light"
     },
     "output_type": "display_data"
    }
   ],
   "source": [
    "plt.figure(figsize = (10, 10))\n",
    "for eta, error in train_cost_gd.items():\n",
    "    plt.plot(list(error.keys()), list(error.values()), label = f'eta = {eta}')\n",
    "plt.xlabel('No of Iterations')\n",
    "plt.ylabel('Cost')\n",
    "plt.legend();"
   ]
  },
  {
   "cell_type": "markdown",
   "metadata": {},
   "source": [
    "### Accuracy vs iterations plot"
   ]
  },
  {
   "cell_type": "code",
   "execution_count": 28,
   "metadata": {},
   "outputs": [
    {
     "data": {
      "image/png": "[encoded data removed]",
      "text/plain": [
       "<Figure size 720x720 with 1 Axes>"
      ]
     },
     "metadata": {
      "needs_background": "light"
     },
     "output_type": "display_data"
    }
   ],
   "source": [
    "plt.figure(figsize = (10, 10))\n",
    "for eta, accuracy in train_accuracy_gd.items():\n",
    "    plt.plot(list(accuracy.keys()), list(accuracy.values()), label = f'eta = {eta}')\n",
    "plt.xlabel('No of Iterations')\n",
    "plt.ylabel('Accuracy')\n",
    "plt.legend();"
   ]
  },
  {
   "cell_type": "markdown",
   "metadata": {},
   "source": [
    "# Building Stochastic Gradient Descent model\n",
    "## Function for finding W using Stochastic Gradient Descent"
   ]
  },
  {
   "cell_type": "code",
   "execution_count": 29,
   "metadata": {},
   "outputs": [],
   "source": [
    "def stochastic_gradient_descent(X, Y, W, eta = 0.1, epochs = 1000):\n",
    "    print_space = epochs // 5 if epochs > 5 else 1\n",
    "    m = len(X)\n",
    "    J = {}\n",
    "    accuracy = {}\n",
    "    for i in range(1, epochs + 1):\n",
    "        j = np.random.choice(m, replace=False)\n",
    "        x = np.array(X[j]).reshape((1, len(W)))\n",
    "        y = np.array(Y[j]).reshape((1, 1))\n",
    "        dW = (1 / m) * x.T @ (x @ W - y)\n",
    "        W = W - (eta * dW)\n",
    "        prediction = predict(W, X)\n",
    "        cost = calculate_error(Y, prediction)\n",
    "        J[i] = cost\n",
    "        acc = calculate_accuracy(Y, prediction)\n",
    "        accuracy[i] = acc\n",
    "        if i == 1 or i % print_space == 0:\n",
    "            print(f'Cost after {i} epochs is {cost}, accuracy = {acc}')\n",
    "    return W, J, accuracy"
   ]
  },
  {
   "cell_type": "markdown",
   "metadata": {},
   "source": [
    "## Function for generating and analyzing 20 models with different train-test split"
   ]
  },
  {
   "cell_type": "code",
   "execution_count": 30,
   "metadata": {},
   "outputs": [],
   "source": [
    "def generate_sgd_models(eta, epochs = 10000):\n",
    "    temp_W_sgd = {}\n",
    "    temp_train_cost_sgd = {}\n",
    "    temp_train_accuracy_sgd = {}\n",
    "    temp_test_cost_sgd = {}\n",
    "    temp_test_accuracy_sgd = {}\n",
    "\n",
    "    for i in range(1, 21):\n",
    "        print(f'Training model {i}')\n",
    "        X_train, Y_train, X_test, Y_test = shuffle(normal_df, ratio = 0.7, target = 'charges')\n",
    "        W_init = initialize_weights(X_train)\n",
    "        temp_W_sgd[i], temp_train_cost_sgd[i], temp_train_accuracy_sgd[i] = \\\n",
    "                                                            stochastic_gradient_descent(X_train, Y_train, W_init, eta, epochs)\n",
    "        predictions = predict(temp_W_sgd[i], X_test)\n",
    "        temp_test_cost_sgd[i] = calculate_error(Y_test, predictions)\n",
    "        temp_test_accuracy_sgd[i] = calculate_accuracy(Y_test, predictions)\n",
    "        print()\n",
    "        print(f'Test Cost = {temp_test_cost_sgd[i]}, test accuracy = {temp_test_accuracy_sgd[i]}')\n",
    "        print()\n",
    "        \n",
    "    best_model = analyze_cost_accuracy(temp_train_cost_sgd, temp_test_cost_sgd, temp_train_accuracy_sgd, temp_test_accuracy_sgd)\n",
    "    \n",
    "    return temp_W_sgd[best_model], temp_train_cost_sgd[best_model], temp_train_accuracy_sgd[best_model], \\\n",
    "                                                            temp_test_cost_sgd[best_model], temp_test_accuracy_sgd[best_model]"
   ]
  },
  {
   "cell_type": "markdown",
   "metadata": {},
   "source": [
    "## Applying Stochastic Gradient Descent"
   ]
  },
  {
   "cell_type": "code",
   "execution_count": 31,
   "metadata": {},
   "outputs": [],
   "source": [
    "# Initializing important variables\n",
    "W_sgd = {}\n",
    "train_cost_sgd = {}\n",
    "train_accuracy_sgd = {}\n",
    "test_cost_sgd = {}\n",
    "test_accuracy_sgd = {}"
   ]
  },
  {
   "cell_type": "markdown",
   "metadata": {},
   "source": [
    "### Learning Rate = 0.001"
   ]
  },
  {
   "cell_type": "code",
   "execution_count": 32,
   "metadata": {},
   "outputs": [
    {
     "name": "stdout",
     "output_type": "stream",
     "text": [
      "Training model 1\n",
      "Cost after 1 epochs is 0.03798204762537006, accuracy = -1.0028181199002812\n",
      "Cost after 2000 epochs is 0.03785693156598381, accuracy = -0.9962206685648269\n",
      "Cost after 4000 epochs is 0.03773655452794666, accuracy = -0.9898731089129955\n",
      "Cost after 6000 epochs is 0.03761406311520187, accuracy = -0.9834140569051313\n",
      "Cost after 8000 epochs is 0.037491468206764, accuracy = -0.9769495475019343\n",
      "Cost after 10000 epochs is 0.03736984874307869, accuracy = -0.9705364739361271\n",
      "\n",
      "Test Cost = 0.03567055882569825, test accuracy = -0.9846852926697494\n",
      "\n",
      "Training model 2\n",
      "Cost after 1 epochs is 0.038184920120089665, accuracy = -1.01765028485848\n",
      "Cost after 2000 epochs is 0.03805138573219858, accuracy = -1.0105944708114816\n",
      "Cost after 4000 epochs is 0.03792611793282273, accuracy = -1.0039754544484931\n",
      "Cost after 6000 epochs is 0.03779861463915198, accuracy = -0.9972383169610737\n",
      "Cost after 8000 epochs is 0.037669875206928286, accuracy = -0.9904358632363637\n",
      "Cost after 10000 epochs is 0.037547006055708425, accuracy = -0.9839435888730961\n",
      "\n",
      "Test Cost = 0.03519347249803672, test accuracy = -0.9500943284442367\n",
      "\n",
      "Training model 3\n",
      "Cost after 1 epochs is 0.038044690895369375, accuracy = -0.997201468728647\n",
      "Cost after 2000 epochs is 0.037917156720701777, accuracy = -0.9905064099710472\n",
      "Cost after 4000 epochs is 0.037793027847659366, accuracy = -0.9839901165877276\n",
      "Cost after 6000 epochs is 0.03767451745569241, accuracy = -0.9777687720761647\n",
      "Cost after 8000 epochs is 0.03755142232428179, accuracy = -0.9713067461939526\n",
      "Cost after 10000 epochs is 0.03742634899367643, accuracy = -0.9647408723833124\n",
      "\n",
      "Test Cost = 0.0355270427426631, test accuracy = -0.9986040948717296\n",
      "\n",
      "Training model 4\n",
      "Cost after 1 epochs is 0.03714052198684813, accuracy = -1.0411577117373776\n",
      "Cost after 2000 epochs is 0.03702046735528459, accuracy = -1.034559785161858\n",
      "Cost after 4000 epochs is 0.036892956213160154, accuracy = -1.0275520659065416\n",
      "Cost after 6000 epochs is 0.03677124735480377, accuracy = -1.0208632268291358\n",
      "Cost after 8000 epochs is 0.0366514562192083, accuracy = -1.0142797813863105\n",
      "Cost after 10000 epochs is 0.03653575684254923, accuracy = -1.0079212096087113\n",
      "\n",
      "Test Cost = 0.037635829771763454, test accuracy = -0.903557931706483\n",
      "\n",
      "Training model 5\n",
      "Cost after 1 epochs is 0.034585150178521186, accuracy = -0.9850203925257279\n",
      "Cost after 2000 epochs is 0.03446992673941748, accuracy = -0.9784071242548891\n",
      "Cost after 4000 epochs is 0.03435445362486365, accuracy = -0.9717795258204556\n",
      "Cost after 6000 epochs is 0.034247804049516856, accuracy = -0.9656583558725205\n",
      "Cost after 8000 epochs is 0.03413642708481943, accuracy = -0.9592658566339511\n",
      "Cost after 10000 epochs is 0.03402913623334273, accuracy = -0.9531078805368869\n",
      "\n",
      "Test Cost = 0.04356265911063681, test accuracy = -1.0463940310449287\n",
      "\n",
      "Training model 6\n",
      "Cost after 1 epochs is 0.04021131062054046, accuracy = -1.0233143492118395\n",
      "Cost after 2000 epochs is 0.040076400879245126, accuracy = -1.0165260896102768\n",
      "Cost after 4000 epochs is 0.03994438055854248, accuracy = -1.0098832171163679\n",
      "Cost after 6000 epochs is 0.039814170696442386, accuracy = -1.0033314415504795\n",
      "Cost after 8000 epochs is 0.03968370760361326, accuracy = -0.9967669241624566\n",
      "Cost after 10000 epochs is 0.03955027381544747, accuracy = -0.9900529301617829\n",
      "\n",
      "Test Cost = 0.03049396889211352, test accuracy = -0.9526022714059443\n",
      "\n",
      "Training model 7\n",
      "Cost after 1 epochs is 0.03971644204582985, accuracy = -1.0152991700716703\n",
      "Cost after 2000 epochs is 0.03958727082031208, accuracy = -1.008744739458709\n",
      "Cost after 4000 epochs is 0.03946039733387289, accuracy = -1.0023069011541104\n",
      "Cost after 6000 epochs is 0.0393366051748764, accuracy = -0.996025416145984\n",
      "Cost after 8000 epochs is 0.03920528485105383, accuracy = -0.9893619355827508\n",
      "Cost after 10000 epochs is 0.039076269026990164, accuracy = -0.9828153903795929\n",
      "\n",
      "Test Cost = 0.031650642436373555, test accuracy = -0.9665259943320856\n",
      "\n",
      "Training model 8\n",
      "Cost after 1 epochs is 0.038028011999852174, accuracy = -0.9895559750295859\n",
      "Cost after 2000 epochs is 0.0378980650081955, accuracy = -0.9827573863027113\n",
      "Cost after 4000 epochs is 0.03777107221922566, accuracy = -0.9761133560525472\n",
      "Cost after 6000 epochs is 0.03764694478401398, accuracy = -0.9696192358657898\n",
      "Cost after 8000 epochs is 0.03753004303110233, accuracy = -0.9635031501498783\n",
      "Cost after 10000 epochs is 0.03740941008228232, accuracy = -0.9571918550942433\n",
      "\n",
      "Test Cost = 0.03557401457315647, test accuracy = -1.0181497222087628\n",
      "\n",
      "Training model 9\n",
      "Cost after 1 epochs is 0.03576507778127567, accuracy = -0.976593950597626\n",
      "Cost after 2000 epochs is 0.03564984922280608, accuracy = -0.9702257253416946\n",
      "Cost after 4000 epochs is 0.035534303264349566, accuracy = -0.9638399586477739\n",
      "Cost after 6000 epochs is 0.03541940382201555, accuracy = -0.9574899223348832\n",
      "Cost after 8000 epochs is 0.03530694980384636, accuracy = -0.951275034913333\n",
      "Cost after 10000 epochs is 0.035191938692649444, accuracy = -0.9449188271054374\n",
      "\n",
      "Test Cost = 0.040820207231760004, test accuracy = -1.0539587655769922\n",
      "\n",
      "Training model 10\n",
      "Cost after 1 epochs is 0.03722181238912433, accuracy = -1.002438980164564\n",
      "Cost after 2000 epochs is 0.03710114706708635, accuracy = -0.9959474922736209\n",
      "Cost after 4000 epochs is 0.03698172646719897, accuracy = -0.9895229672733554\n",
      "Cost after 6000 epochs is 0.036863838528350686, accuracy = -0.9831808955447352\n",
      "Cost after 8000 epochs is 0.03675015063658947, accuracy = -0.977064775683202\n",
      "Cost after 10000 epochs is 0.036634934179545886, accuracy = -0.9708664228913335\n",
      "\n",
      "Test Cost = 0.03744578517462471, test accuracy = -0.9861434502560265\n",
      "\n",
      "Training model 11\n",
      "Cost after 1 epochs is 0.03753825292782158, accuracy = -1.0539353753738427\n",
      "Cost after 2000 epochs is 0.03740958355625446, accuracy = -1.0468951283357888\n",
      "Cost after 4000 epochs is 0.0372833369592335, accuracy = -1.039987445334651\n",
      "Cost after 6000 epochs is 0.03715076249638207, accuracy = -1.0327335281199819\n",
      "Cost after 8000 epochs is 0.037024852085328144, accuracy = -1.0258442398015086\n",
      "Cost after 10000 epochs is 0.03690433071431695, accuracy = -1.0192498170966369\n",
      "\n",
      "Test Cost = 0.0367130009136659, test accuracy = -0.8765840920526875\n",
      "\n",
      "Training model 12\n",
      "Cost after 1 epochs is 0.03800894659850521, accuracy = -1.018520142420463\n",
      "Cost after 2000 epochs is 0.03788280571031665, accuracy = -1.0118212479133097\n",
      "Cost after 4000 epochs is 0.03776104353803557, accuracy = -1.0053548914543833\n",
      "Cost after 6000 epochs is 0.03763727562000172, accuracy = -0.9987820169631287\n",
      "Cost after 8000 epochs is 0.03751261218636557, accuracy = -0.9921615848191934\n",
      "Cost after 10000 epochs is 0.03739193324689869, accuracy = -0.9857527550072824\n",
      "\n",
      "Test Cost = 0.03561350653003209, test accuracy = -0.9485765845946037\n",
      "\n",
      "Training model 13\n",
      "Cost after 1 epochs is 0.0360395644449874, accuracy = -1.006943538601052\n",
      "Cost after 2000 epochs is 0.03592230442795104, accuracy = -1.000413652983633\n",
      "Cost after 4000 epochs is 0.03580388792888417, accuracy = -0.9938193660846117\n",
      "Cost after 6000 epochs is 0.035686384035880765, accuracy = -0.9872758996899602\n",
      "Cost after 8000 epochs is 0.03556489197003789, accuracy = -0.9805103429944335\n",
      "Cost after 10000 epochs is 0.03544849272348466, accuracy = -0.9740283913014647\n",
      "\n",
      "Test Cost = 0.04017925225954362, test accuracy = -0.9816463608641706\n",
      "\n",
      "Training model 14\n",
      "Cost after 1 epochs is 0.03731396785870711, accuracy = -1.0096048700010813\n",
      "Cost after 2000 epochs is 0.0371904639279924, accuracy = -1.0029533634776162\n",
      "Cost after 4000 epochs is 0.037070352360309734, accuracy = -0.9964845582229047\n",
      "Cost after 6000 epochs is 0.03694671166814919, accuracy = -0.9898256861877197\n",
      "Cost after 8000 epochs is 0.03682863013035082, accuracy = -0.9834662115181974\n",
      "Cost after 10000 epochs is 0.03670998704770195, accuracy = -0.9770764939307799\n",
      "\n",
      "Test Cost = 0.037226527552480744, test accuracy = -0.9692551767172881\n",
      "\n",
      "Training model 15\n",
      "Cost after 1 epochs is 0.03579848049036171, accuracy = -1.0117764140614711\n",
      "Cost after 2000 epochs is 0.03567869242916436, accuracy = -1.005044653581641\n",
      "Cost after 4000 epochs is 0.035562905401477114, accuracy = -0.998537740210885\n",
      "Cost after 6000 epochs is 0.03544557791559463, accuracy = -0.9919442573147865\n",
      "Cost after 8000 epochs is 0.03532192410299958, accuracy = -0.9849952522095426\n",
      "Cost after 10000 epochs is 0.035203000200692024, accuracy = -0.9783120550890698\n",
      "\n",
      "Test Cost = 0.04074364471477425, test accuracy = -0.9736465936304204\n",
      "\n",
      "Training model 16\n",
      "Cost after 1 epochs is 0.03663285614077121, accuracy = -0.9587124825013995\n"
     ]
    },
    {
     "name": "stdout",
     "output_type": "stream",
     "text": [
      "Cost after 2000 epochs is 0.03651511528363168, accuracy = -0.9524170277955639\n",
      "Cost after 4000 epochs is 0.036401272182261295, accuracy = -0.9463299811605987\n",
      "Cost after 6000 epochs is 0.03628367846746383, accuracy = -0.9400423939696794\n",
      "Cost after 8000 epochs is 0.036171927064191395, accuracy = -0.9340671877863114\n",
      "Cost after 10000 epochs is 0.036051536888274276, accuracy = -0.927630077356449\n",
      "\n",
      "Test Cost = 0.038809407696962187, test accuracy = -1.0968003728811886\n",
      "\n",
      "Training model 17\n",
      "Cost after 1 epochs is 0.038310170134216816, accuracy = -1.0214447852229864\n",
      "Cost after 2000 epochs is 0.038187469571784545, accuracy = -1.0149704623159441\n",
      "Cost after 4000 epochs is 0.038059693980521205, accuracy = -1.0082283543656754\n",
      "Cost after 6000 epochs is 0.03793328874020266, accuracy = -1.0015585532927074\n",
      "Cost after 8000 epochs is 0.037812976592739286, accuracy = -0.9952102556412805\n",
      "Cost after 10000 epochs is 0.03768852671118196, accuracy = -0.988643629515259\n",
      "\n",
      "Test Cost = 0.034921682548330515, test accuracy = -0.9427819648717592\n",
      "\n",
      "Training model 18\n",
      "Cost after 1 epochs is 0.03708325551888989, accuracy = -0.999506598423977\n",
      "Cost after 2000 epochs is 0.03696227875939463, accuracy = -0.9929836050815102\n",
      "Cost after 4000 epochs is 0.036846488041667694, accuracy = -0.9867402399591216\n",
      "Cost after 6000 epochs is 0.036727747741805546, accuracy = -0.9803378351607546\n",
      "Cost after 8000 epochs is 0.0366047093788613, accuracy = -0.9737036814133584\n",
      "Cost after 10000 epochs is 0.03648762747622065, accuracy = -0.9673906963852026\n",
      "\n",
      "Test Cost = 0.03776136917892695, test accuracy = -0.9929611229216024\n",
      "\n",
      "Training model 19\n",
      "Cost after 1 epochs is 0.038497900112250516, accuracy = -0.9985097092019106\n",
      "Cost after 2000 epochs is 0.03837131475294972, accuracy = -0.9919383879384698\n",
      "Cost after 4000 epochs is 0.03824859164918698, accuracy = -0.9855675647585533\n",
      "Cost after 6000 epochs is 0.038125507109164306, accuracy = -0.9791779786364343\n",
      "Cost after 8000 epochs is 0.03800138605428044, accuracy = -0.9727345847739504\n",
      "Cost after 10000 epochs is 0.03787918147045699, accuracy = -0.9663906790916137\n",
      "\n",
      "Test Cost = 0.03447184549065111, test accuracy = -0.997229924763831\n",
      "\n",
      "Training model 20\n",
      "Cost after 1 epochs is 0.038093073218835136, accuracy = -0.9870477807063252\n",
      "Cost after 2000 epochs is 0.03797227830411417, accuracy = -0.9807467593674055\n",
      "Cost after 4000 epochs is 0.03784528821511023, accuracy = -0.9741225793471335\n",
      "Cost after 6000 epochs is 0.03772147436277764, accuracy = -0.9676640812604909\n",
      "Cost after 8000 epochs is 0.037601365007231144, accuracy = -0.961398820723236\n",
      "Cost after 10000 epochs is 0.03747711476754309, accuracy = -0.9549175593766901\n",
      "\n",
      "Test Cost = 0.03541074157458129, test accuracy = -1.024169340606833\n",
      "\n",
      "Mean train cost = 0.036900632695602106\n",
      "Variance train cost = 1.6183324262606891e-06\n",
      "Max train cost = 0.03955027381544747\n",
      "Min train cost = 0.03402913623334273\n",
      "\n",
      "Mean test cost = 0.03677125798583876\n",
      "Variance test cost = 9.033300099661697e-06\n",
      "Max test cost = 0.04356265911063681\n",
      "Min test cost = 0.03049396889211352\n",
      "\n",
      "Mean train accuracy = -0.9732743802560485\n",
      "Variance train accuracy = 0.00041453594166937356\n",
      "Max train accuracy = -0.927630077356449\n",
      "Min train accuracy = -1.0192498170966369\n",
      "\n",
      "Mean test accuracy = -0.983218370821066\n",
      "Variance test accuracy = 0.0024243074284995897\n",
      "Max test accuracy = -0.8765840920526875\n",
      "Min test accuracy = -1.0968003728811886\n",
      "\n",
      "Best model number is 6\n"
     ]
    }
   ],
   "source": [
    "eta = 0.001\n",
    "W_sgd[eta], train_cost_sgd[eta], train_accuracy_sgd[eta], test_cost_sgd[eta], test_accuracy_sgd[eta] = generate_sgd_models(eta)"
   ]
  },
  {
   "cell_type": "markdown",
   "metadata": {},
   "source": [
    "### Learning Rate = 0.01"
   ]
  },
  {
   "cell_type": "code",
   "execution_count": 33,
   "metadata": {
    "scrolled": true
   },
   "outputs": [
    {
     "name": "stdout",
     "output_type": "stream",
     "text": [
      "Training model 1\n",
      "Cost after 1 epochs is 0.03633831695936573, accuracy = -1.011697818514158\n",
      "Cost after 2000 epochs is 0.03519597889472906, accuracy = -0.9484577131673697\n",
      "Cost after 4000 epochs is 0.03409476488309907, accuracy = -0.8874942451181898\n",
      "Cost after 6000 epochs is 0.033104124397714756, accuracy = -0.8326521536254026\n",
      "Cost after 8000 epochs is 0.032163384078669546, accuracy = -0.7805725471392855\n",
      "Cost after 10000 epochs is 0.031220715590678502, accuracy = -0.7283861967644407\n",
      "\n",
      "Test Cost = 0.034680594399699845, test accuracy = -0.729408010369331\n",
      "\n",
      "Training model 2\n",
      "Cost after 1 epochs is 0.037996742997688626, accuracy = -1.0290357397962229\n",
      "Cost after 2000 epochs is 0.03679511563529105, accuracy = -0.9648685330340523\n",
      "Cost after 4000 epochs is 0.03568264608818431, accuracy = -0.905462376283938\n",
      "Cost after 6000 epochs is 0.03456407698624372, accuracy = -0.845730501754395\n",
      "Cost after 8000 epochs is 0.033551294324543825, accuracy = -0.7916476500383931\n",
      "Cost after 10000 epochs is 0.03258901304049909, accuracy = -0.7402615847332026\n",
      "\n",
      "Test Cost = 0.03105413415034745, test accuracy = -0.6776136826163266\n",
      "\n",
      "Training model 3\n",
      "Cost after 1 epochs is 0.03929755550932697, accuracy = -1.0030189298982926\n",
      "Cost after 2000 epochs is 0.03803344798615631, accuracy = -0.9385866448484828\n",
      "Cost after 4000 epochs is 0.03682811399070453, accuracy = -0.877150080195833\n",
      "Cost after 6000 epochs is 0.03573480775594326, accuracy = -0.8214236347205441\n",
      "Cost after 8000 epochs is 0.034654396314155234, accuracy = -0.7663544442344719\n",
      "Cost after 10000 epochs is 0.033667731285943775, accuracy = -0.716063562184388\n",
      "\n",
      "Test Cost = 0.028101223597299694, test accuracy = -0.7166656588260207\n",
      "\n",
      "Training model 4\n",
      "Cost after 1 epochs is 0.037523482118935525, accuracy = -1.0089322734084445\n",
      "Cost after 2000 epochs is 0.03634708261473213, accuracy = -0.9459501940021386\n",
      "Cost after 4000 epochs is 0.035238886346542625, accuracy = -0.8866195796049947\n",
      "Cost after 6000 epochs is 0.03421034939955373, accuracy = -0.8315537661325216\n",
      "Cost after 8000 epochs is 0.03320127786242073, accuracy = -0.7775300918184211\n",
      "Cost after 10000 epochs is 0.0322843844403733, accuracy = -0.7284414496452716\n",
      "\n",
      "Test Cost = 0.03204994024784398, test accuracy = -0.7188861254489358\n",
      "\n",
      "Training model 5\n",
      "Cost after 1 epochs is 0.03737689601059987, accuracy = -1.0144764735787684\n",
      "Cost after 2000 epochs is 0.03618542017320278, accuracy = -0.9502603320727079\n",
      "Cost after 4000 epochs is 0.0350626805005463, accuracy = -0.889748815656829\n",
      "Cost after 6000 epochs is 0.03398694011343105, accuracy = -0.8317703869262136\n",
      "Cost after 8000 epochs is 0.03300976306519911, accuracy = -0.7791041576698801\n",
      "Cost after 10000 epochs is 0.032063894288984894, accuracy = -0.7281253284959457\n",
      "\n",
      "Test Cost = 0.03237638224921996, test accuracy = -0.7097736614456271\n",
      "\n",
      "Training model 6\n",
      "Cost after 1 epochs is 0.03639864732915039, accuracy = -0.9951086516124104\n",
      "Cost after 2000 epochs is 0.035245484003372705, accuracy = -0.931900639864714\n",
      "Cost after 4000 epochs is 0.034134254263263296, accuracy = -0.8709911217616675\n",
      "Cost after 6000 epochs is 0.03310567747923572, accuracy = -0.8146120365142437\n",
      "Cost after 8000 epochs is 0.032120092631060956, accuracy = -0.7605894559576087\n",
      "Cost after 10000 epochs is 0.031202619504475847, accuracy = -0.7103002637269433\n",
      "\n",
      "Test Cost = 0.03440396274192495, test accuracy = -0.7537922234199435\n",
      "\n",
      "Training model 7\n",
      "Cost after 1 epochs is 0.03752734433156119, accuracy = -1.037492865007576\n",
      "Cost after 2000 epochs is 0.036350493715762544, accuracy = -0.9735974635188833\n",
      "Cost after 4000 epochs is 0.035178056407899616, accuracy = -0.9099416761992793\n",
      "Cost after 6000 epochs is 0.03411206280745303, accuracy = -0.8520650959685006\n",
      "Cost after 8000 epochs is 0.03308534927013062, accuracy = -0.7963211699336985\n",
      "Cost after 10000 epochs is 0.03211720201588666, accuracy = -0.7437570155035178\n",
      "\n",
      "Test Cost = 0.03199264424245654, test accuracy = -0.6625091550113451\n",
      "\n",
      "Training model 8\n",
      "Cost after 1 epochs is 0.03752637946836659, accuracy = -1.010377359941038\n",
      "Cost after 2000 epochs is 0.036274489034185016, accuracy = -0.9433106132508344\n",
      "Cost after 4000 epochs is 0.03513033104892593, accuracy = -0.8820153499627892\n",
      "Cost after 6000 epochs is 0.034070018041498326, accuracy = -0.8252118614626442\n",
      "Cost after 8000 epochs is 0.03310377497354706, accuracy = -0.7734479232536127\n",
      "Cost after 10000 epochs is 0.03218592246510614, accuracy = -0.7242763823568903\n",
      "\n",
      "Test Cost = 0.03206131949489055, test accuracy = -0.7169321943290174\n",
      "\n",
      "Training model 9\n",
      "Cost after 1 epochs is 0.03780330809132265, accuracy = -0.9900588350056143\n",
      "Cost after 2000 epochs is 0.036578795130396975, accuracy = -0.9255974701276453\n",
      "Cost after 4000 epochs is 0.035425870542587175, accuracy = -0.8649046927515629\n",
      "Cost after 6000 epochs is 0.03434035947040009, accuracy = -0.8077607281418047\n",
      "Cost after 8000 epochs is 0.033296096073807825, accuracy = -0.7527881423183322\n",
      "Cost after 10000 epochs is 0.03234010289276691, accuracy = -0.7024623170879132\n",
      "\n",
      "Test Cost = 0.03132920008779387, test accuracy = -0.749894930403006\n",
      "\n",
      "Training model 10\n",
      "Cost after 1 epochs is 0.03487221548971653, accuracy = -1.0506367937127448\n",
      "Cost after 2000 epochs is 0.03376970652537354, accuracy = -0.985804507724303\n",
      "Cost after 4000 epochs is 0.032728461584622566, accuracy = -0.924574810763958\n",
      "Cost after 6000 epochs is 0.03169390843177122, accuracy = -0.8637386198166377\n",
      "Cost after 8000 epochs is 0.030741584213658118, accuracy = -0.8077378451660471\n",
      "Cost after 10000 epochs is 0.02985982456202405, accuracy = -0.7558865716103029\n",
      "\n",
      "Test Cost = 0.03798287909140845, test accuracy = -0.690998235500468\n",
      "\n",
      "Training model 11\n",
      "Cost after 1 epochs is 0.03713320784792999, accuracy = -1.0117653023768036\n",
      "Cost after 2000 epochs is 0.035932327693041846, accuracy = -0.9467052343694682\n",
      "Cost after 4000 epochs is 0.03478844040094391, accuracy = -0.8847328679233337\n",
      "Cost after 6000 epochs is 0.033723193852114426, accuracy = -0.8270210199680472\n",
      "Cost after 8000 epochs is 0.03271722522689904, accuracy = -0.7725206712834982\n",
      "Cost after 10000 epochs is 0.03183125753414302, accuracy = -0.7245216115035675\n",
      "\n",
      "Test Cost = 0.03288451602039916, test accuracy = -0.7163940783761691\n",
      "\n",
      "Training model 12\n",
      "Cost after 1 epochs is 0.03596844850147137, accuracy = -0.9987806864697657\n",
      "Cost after 2000 epochs is 0.034862910253305075, accuracy = -0.93734549561081\n",
      "Cost after 4000 epochs is 0.03379784436301577, accuracy = -0.8781593694357848\n",
      "Cost after 6000 epochs is 0.032788301018534104, accuracy = -0.8220586527473375\n",
      "Cost after 8000 epochs is 0.03185531763338675, accuracy = -0.7702124028054353\n",
      "Cost after 10000 epochs is 0.030954332167576745, accuracy = -0.7201442896985459\n",
      "\n",
      "Test Cost = 0.035500440604325126, test accuracy = -0.7600688967897582\n",
      "\n",
      "Training model 13\n",
      "Cost after 1 epochs is 0.037383525713062485, accuracy = -0.9978747949164215\n",
      "Cost after 2000 epochs is 0.03615879240028551, accuracy = -0.9324217973882447\n",
      "Cost after 4000 epochs is 0.03496599847378744, accuracy = -0.8686757253999837\n",
      "Cost after 6000 epochs is 0.03390719595614079, accuracy = -0.812090509788254\n",
      "Cost after 8000 epochs is 0.03288132121009743, accuracy = -0.7572650416504223\n",
      "Cost after 10000 epochs is 0.03199118276850359, accuracy = -0.7096936817392001\n",
      "\n",
      "Test Cost = 0.032333826213846804, test accuracy = -0.7415284860590576\n",
      "\n",
      "Training model 14\n",
      "Cost after 1 epochs is 0.038723647114172255, accuracy = -1.0001795825038937\n",
      "Cost after 2000 epochs is 0.03746886905276386, accuracy = -0.9353669513071705\n",
      "Cost after 4000 epochs is 0.03629050082365081, accuracy = -0.8745010916014979\n",
      "Cost after 6000 epochs is 0.03522245469991206, accuracy = -0.8193336626768388\n",
      "Cost after 8000 epochs is 0.034245050207183825, accuracy = -0.7688481155784845\n",
      "Cost after 10000 epochs is 0.0332358292139954, accuracy = -0.7167191614317301\n",
      "\n",
      "Test Cost = 0.02929743338498711, test accuracy = -0.7213098920937404\n",
      "\n",
      "Training model 15\n",
      "Cost after 1 epochs is 0.03734916384842303, accuracy = -1.0021061756400842\n",
      "Cost after 2000 epochs is 0.03611133141246585, accuracy = -0.9357520271377175\n",
      "Cost after 4000 epochs is 0.03503367983013697, accuracy = -0.877984391510714\n",
      "Cost after 6000 epochs is 0.033942091846264094, accuracy = -0.8194696934940227\n",
      "Cost after 8000 epochs is 0.03296600820806725, accuracy = -0.7671466190630631\n",
      "Cost after 10000 epochs is 0.03202863469787567, accuracy = -0.716898605446147\n",
      "\n",
      "Test Cost = 0.03243460602311662, test accuracy = -0.7345248188026796\n",
      "\n",
      "Training model 16\n",
      "Cost after 1 epochs is 0.040227709468996134, accuracy = -1.0458017381055495\n"
     ]
    },
    {
     "name": "stdout",
     "output_type": "stream",
     "text": [
      "Cost after 2000 epochs is 0.038914286038286346, accuracy = -0.9790068851824536\n",
      "Cost after 4000 epochs is 0.03768313152246684, accuracy = -0.9163958620447525\n",
      "Cost after 6000 epochs is 0.0365065723045226, accuracy = -0.8565613120585163\n",
      "Cost after 8000 epochs is 0.03542076558854971, accuracy = -0.8013420292282067\n",
      "Cost after 10000 epochs is 0.03443326884258048, accuracy = -0.7511223526434778\n",
      "\n",
      "Test Cost = 0.026137280745701624, test accuracy = -0.6299402480602856\n",
      "\n",
      "Training model 17\n",
      "Cost after 1 epochs is 0.03350283497311252, accuracy = -0.9786876061162397\n",
      "Cost after 2000 epochs is 0.032457752167099965, accuracy = -0.9169646982703274\n",
      "Cost after 4000 epochs is 0.03150641296335212, accuracy = -0.8607783160379263\n",
      "Cost after 6000 epochs is 0.030583032789998386, accuracy = -0.8062432026299176\n",
      "Cost after 8000 epochs is 0.029690767637308928, accuracy = -0.7535457517899231\n",
      "Cost after 10000 epochs is 0.028826329977156506, accuracy = -0.7024918011085424\n",
      "\n",
      "Test Cost = 0.04093910011623662, test accuracy = -0.8459244006722106\n",
      "\n",
      "Training model 18\n",
      "Cost after 1 epochs is 0.03741759088883478, accuracy = -1.0197209233033337\n",
      "Cost after 2000 epochs is 0.03621843183949543, accuracy = -0.9549929019426127\n",
      "Cost after 4000 epochs is 0.03509192041776438, accuracy = -0.8941862429684961\n",
      "Cost after 6000 epochs is 0.03403615770398757, accuracy = -0.8371984467901268\n",
      "Cost after 8000 epochs is 0.03300181553095439, accuracy = -0.7813668852409965\n",
      "Cost after 10000 epochs is 0.03208685208898392, accuracy = -0.7319791303399505\n",
      "\n",
      "Test Cost = 0.03238785396141729, test accuracy = -0.7045547791858817\n",
      "\n",
      "Training model 19\n",
      "Cost after 1 epochs is 0.039277995054557174, accuracy = -1.0654112527704256\n",
      "Cost after 2000 epochs is 0.03801127154607857, accuracy = -0.9988013103605218\n",
      "Cost after 4000 epochs is 0.036820359855218136, accuracy = -0.9361778896909474\n",
      "Cost after 6000 epochs is 0.03572113807710366, accuracy = -0.8783759314531496\n",
      "Cost after 8000 epochs is 0.03461373364207677, accuracy = -0.8201436928092105\n",
      "Cost after 10000 epochs is 0.03361440876148885, accuracy = -0.7675947566765788\n",
      "\n",
      "Test Cost = 0.02827984998463644, test accuracy = -0.6030008727233642\n",
      "\n",
      "Training model 20\n",
      "Cost after 1 epochs is 0.03582418733706963, accuracy = -0.9813005938936412\n",
      "Cost after 2000 epochs is 0.03470012623944864, accuracy = -0.9191330170178729\n",
      "Cost after 4000 epochs is 0.03364680775268517, accuracy = -0.8608779469517303\n",
      "Cost after 6000 epochs is 0.0326635701407151, accuracy = -0.8064987855710322\n",
      "Cost after 8000 epochs is 0.031724936337845414, accuracy = -0.7545864925278907\n",
      "Cost after 10000 epochs is 0.030833892319038193, accuracy = -0.7053062108277857\n",
      "\n",
      "Test Cost = 0.03573817773999723, test accuracy = -0.7939160339930134\n",
      "\n",
      "Mean train cost = 0.03196836992290407\n",
      "Variance train cost = 1.5898673732922881e-06\n",
      "Max train cost = 0.03443326884258048\n",
      "Min train cost = 0.028826329977156506\n",
      "\n",
      "Mean test cost = 0.03259826825487746\n",
      "Variance test cost = 1.1058829027842569e-05\n",
      "Max test cost = 0.04093910011623662\n",
      "Min test cost = 0.026137280745701624\n",
      "\n",
      "Mean train accuracy = -0.7262216136762171\n",
      "Variance train accuracy = 0.00030892619401280246\n",
      "Max train accuracy = -0.7024623170879132\n",
      "Min train accuracy = -0.7675947566765788\n",
      "\n",
      "Mean test accuracy = -0.7188818192063091\n",
      "Variance test accuracy = 0.0026910849084654563\n",
      "Max test accuracy = -0.6030008727233642\n",
      "Min test accuracy = -0.8459244006722106\n",
      "\n",
      "Best model number is 16\n"
     ]
    }
   ],
   "source": [
    "eta = 0.01\n",
    "W_sgd[eta], train_cost_sgd[eta], train_accuracy_sgd[eta], test_cost_sgd[eta], test_accuracy_sgd[eta] = generate_sgd_models(eta)"
   ]
  },
  {
   "cell_type": "markdown",
   "metadata": {},
   "source": [
    "### Learning Rate = 0.1"
   ]
  },
  {
   "cell_type": "code",
   "execution_count": 34,
   "metadata": {
    "scrolled": true
   },
   "outputs": [
    {
     "name": "stdout",
     "output_type": "stream",
     "text": [
      "Training model 1\n",
      "Cost after 1 epochs is 0.038847775918533195, accuracy = -0.9841922630924402\n",
      "Cost after 2000 epochs is 0.0294379219443291, accuracy = -0.5035737717893636\n",
      "Cost after 4000 epochs is 0.024331812078088932, accuracy = -0.24277367573392228\n",
      "Cost after 6000 epochs is 0.021352712517772883, accuracy = -0.0906129365719881\n",
      "Cost after 8000 epochs is 0.019886972414544186, accuracy = -0.01574867204807706\n",
      "Cost after 10000 epochs is 0.0191201173182568, accuracy = 0.0234192832077742\n",
      "\n",
      "Test Cost = 0.016142789807731338, test accuracy = 0.02271782807763867\n",
      "\n",
      "Training model 2\n",
      "Cost after 1 epochs is 0.036591463508067516, accuracy = -1.0402030922926224\n",
      "Cost after 2000 epochs is 0.027570827191077733, accuracy = -0.537246163436468\n",
      "Cost after 4000 epochs is 0.022876672956175525, accuracy = -0.27551768724052406\n",
      "Cost after 6000 epochs is 0.020134369616695284, accuracy = -0.12261711380545393\n",
      "Cost after 8000 epochs is 0.01858581166512372, accuracy = -0.036275316607479846\n",
      "Cost after 10000 epochs is 0.01772884527011256, accuracy = 0.011505923099075055\n",
      "\n",
      "Test Cost = 0.019680044603399824, test accuracy = 0.03438874388258539\n",
      "\n",
      "Training model 3\n",
      "Cost after 1 epochs is 0.03826845416535202, accuracy = -1.0142828038913105\n",
      "Cost after 2000 epochs is 0.029182030895721116, accuracy = -0.5360135207419943\n",
      "Cost after 4000 epochs is 0.023931911880251337, accuracy = -0.2596703895156933\n",
      "Cost after 6000 epochs is 0.021033970161216033, accuracy = -0.10713550670830085\n",
      "Cost after 8000 epochs is 0.0194573852155576, accuracy = -0.024151022119714094\n",
      "Cost after 10000 epochs is 0.018580164612797524, accuracy = 0.02202200508760377\n",
      "\n",
      "Test Cost = 0.017295978398349447, test accuracy = 0.032395046204435674\n",
      "\n",
      "Training model 4\n",
      "Cost after 1 epochs is 0.03772915522715022, accuracy = -1.0063386620920372\n",
      "Cost after 2000 epochs is 0.0284149429932808, accuracy = -0.5110330026031333\n",
      "Cost after 4000 epochs is 0.023181876445463545, accuracy = -0.23275209032257216\n",
      "Cost after 6000 epochs is 0.020645989837276786, accuracy = -0.09790021478878663\n",
      "Cost after 8000 epochs is 0.01916506576007096, accuracy = -0.01914851166072684\n",
      "Cost after 10000 epochs is 0.018232741810982715, accuracy = 0.03043005890064121\n",
      "\n",
      "Test Cost = 0.017924950188341088, test accuracy = 0.023070123851440805\n",
      "\n",
      "Training model 5\n",
      "Cost after 1 epochs is 0.039264360895404145, accuracy = -0.991465648679311\n",
      "Cost after 2000 epochs is 0.029724730130155134, accuracy = -0.5076211001665805\n",
      "Cost after 4000 epochs is 0.024489073816338948, accuracy = -0.2420716436242658\n",
      "Cost after 6000 epochs is 0.021614003034971782, accuracy = -0.09624971839627938\n",
      "Cost after 8000 epochs is 0.01998311622369565, accuracy = -0.013532083689516305\n",
      "Cost after 10000 epochs is 0.01917153771861121, accuracy = 0.027630708145746974\n",
      "\n",
      "Test Cost = 0.015455133907591763, test accuracy = 0.043802829562870516\n",
      "\n",
      "Training model 6\n",
      "Cost after 1 epochs is 0.03676805517871405, accuracy = -0.9795113014828893\n",
      "Cost after 2000 epochs is 0.02762367866809754, accuracy = -0.48719816281409734\n",
      "Cost after 4000 epochs is 0.022868574214278237, accuracy = -0.23119378726811424\n",
      "Cost after 6000 epochs is 0.02030451963451213, accuracy = -0.09315072261332813\n",
      "Cost after 8000 epochs is 0.018849211345836496, accuracy = -0.014800122056056741\n",
      "Cost after 10000 epochs is 0.018015718537877028, accuracy = 0.03007329931586422\n",
      "\n",
      "Test Cost = 0.01876377777076582, test accuracy = 0.004673456466528725\n",
      "\n",
      "Training model 7\n",
      "Cost after 1 epochs is 0.03738097560235739, accuracy = -0.9629277369188378\n",
      "Cost after 2000 epochs is 0.028244771131849533, accuracy = -0.4831727579131324\n",
      "Cost after 4000 epochs is 0.023323754794574627, accuracy = -0.2247632512961224\n",
      "Cost after 6000 epochs is 0.020908823701033936, accuracy = -0.09795181446567702\n",
      "Cost after 8000 epochs is 0.01940416295649622, accuracy = -0.0189399571635962\n",
      "Cost after 10000 epochs is 0.018514438239002128, accuracy = 0.027780742284421733\n",
      "\n",
      "Test Cost = 0.017885452015736557, test accuracy = -0.0064460926832552445\n",
      "\n",
      "Training model 8\n",
      "Cost after 1 epochs is 0.037455836515985094, accuracy = -1.008566637620524\n",
      "Cost after 2000 epochs is 0.02823875502278568, accuracy = -0.5143012812569294\n",
      "Cost after 4000 epochs is 0.023165946034883946, accuracy = -0.24227225080736114\n",
      "Cost after 6000 epochs is 0.02045637283593153, accuracy = -0.0969715757768117\n",
      "Cost after 8000 epochs is 0.018884889565574135, accuracy = -0.01270089430180077\n",
      "Cost after 10000 epochs is 0.018088747688358955, accuracy = 0.02999215869421301\n",
      "\n",
      "Test Cost = 0.018340116220284104, test accuracy = 0.020118085376953587\n",
      "\n",
      "Training model 9\n",
      "Cost after 1 epochs is 0.03876592945424028, accuracy = -0.9930677815645472\n",
      "Cost after 2000 epochs is 0.029470027265543215, accuracy = -0.5151387491976753\n",
      "Cost after 4000 epochs is 0.024169533335099684, accuracy = -0.2426251314959358\n",
      "Cost after 6000 epochs is 0.02132259192205898, accuracy = -0.09625569611244789\n",
      "Cost after 8000 epochs is 0.01974368560709996, accuracy = -0.015079587329393407\n",
      "Cost after 10000 epochs is 0.018891226368204415, accuracy = 0.028747790681632468\n",
      "\n",
      "Test Cost = 0.01626092873208741, test accuracy = 0.032924244587813956\n",
      "\n",
      "Training model 10\n",
      "Cost after 1 epochs is 0.03852999274600164, accuracy = -0.9875929341469083\n",
      "Cost after 2000 epochs is 0.0289341496031496, accuracy = -0.4925855731633275\n",
      "Cost after 4000 epochs is 0.02391195594090698, accuracy = -0.23351268148657844\n",
      "Cost after 6000 epochs is 0.021130428056633954, accuracy = -0.09002588652767263\n",
      "Cost after 8000 epochs is 0.01961754898264713, accuracy = -0.011983106257827503\n",
      "Cost after 10000 epochs is 0.0187280295640371, accuracy = 0.03390328990297198\n",
      "\n",
      "Test Cost = 0.016521103158735107, test accuracy = 0.027118842009500543\n",
      "\n",
      "Training model 11\n",
      "Cost after 1 epochs is 0.03680417101295038, accuracy = -0.963930013337756\n",
      "Cost after 2000 epochs is 0.028029278878814536, accuracy = -0.49568759538010476\n",
      "Cost after 4000 epochs is 0.023367117587555802, accuracy = -0.2469071383035759\n",
      "Cost after 6000 epochs is 0.02044373240710135, accuracy = -0.09091058306473898\n",
      "Cost after 8000 epochs is 0.018903808981059287, accuracy = -0.008737781683565649\n",
      "Cost after 10000 epochs is 0.018059119593216037, accuracy = 0.03633620843971497\n",
      "\n",
      "Test Cost = 0.018632404361722362, test accuracy = -0.010149752966144288\n",
      "\n",
      "Training model 12\n",
      "Cost after 1 epochs is 0.037914056572005375, accuracy = -1.0206760828956134\n",
      "Cost after 2000 epochs is 0.02853930361774387, accuracy = -0.5210371418143676\n",
      "Cost after 4000 epochs is 0.02317086712273647, accuracy = -0.23491974344515287\n",
      "Cost after 6000 epochs is 0.020434182547662726, accuracy = -0.08906478707089827\n",
      "Cost after 8000 epochs is 0.01899903408384722, accuracy = -0.012576791893467831\n",
      "Cost after 10000 epochs is 0.018253260716839147, accuracy = 0.027170113139280527\n",
      "\n",
      "Test Cost = 0.017736498341823104, test accuracy = 0.03790889381490714\n",
      "\n",
      "Training model 13\n",
      "Cost after 1 epochs is 0.03658883407272102, accuracy = -0.9999582288609994\n",
      "Cost after 2000 epochs is 0.027587929274070336, accuracy = -0.5079656831713038\n",
      "Cost after 4000 epochs is 0.022807676203879895, accuracy = -0.24667540962052215\n",
      "Cost after 6000 epochs is 0.020114122444657292, accuracy = -0.09944483662850057\n",
      "Cost after 8000 epochs is 0.01873690437142217, accuracy = -0.024165624040630274\n",
      "Cost after 10000 epochs is 0.0179734218322988, accuracy = 0.01756659359922852\n",
      "\n",
      "Test Cost = 0.01935489920062039, test accuracy = 0.008242175910727512\n",
      "\n",
      "Training model 14\n",
      "Cost after 1 epochs is 0.03797907397962824, accuracy = -1.0132855669226775\n",
      "Cost after 2000 epochs is 0.028594260079553395, accuracy = -0.5157929112720734\n",
      "Cost after 4000 epochs is 0.023574556045942188, accuracy = -0.24969643702644428\n",
      "Cost after 6000 epochs is 0.02071140799961314, accuracy = -0.097919839189196\n",
      "Cost after 8000 epochs is 0.019219715898138926, accuracy = -0.018844657424588185\n",
      "Cost after 10000 epochs is 0.018371482013460123, accuracy = 0.026120552583286494\n",
      "\n",
      "Test Cost = 0.01713191156958347, test accuracy = 0.0587498511169775\n",
      "\n",
      "Training model 15\n",
      "Cost after 1 epochs is 0.03755625367366405, accuracy = -1.0016199167612747\n",
      "Cost after 2000 epochs is 0.02843606128603601, accuracy = -0.5155448442475297\n",
      "Cost after 4000 epochs is 0.023144279169249327, accuracy = -0.23351094991506627\n",
      "Cost after 6000 epochs is 0.02038424346767294, accuracy = -0.08641048352532343\n"
     ]
    },
    {
     "name": "stdout",
     "output_type": "stream",
     "text": [
      "Cost after 8000 epochs is 0.01901816671740744, accuracy = -0.013603263323980652\n",
      "Cost after 10000 epochs is 0.018313758383848612, accuracy = 0.023939292497360043\n",
      "\n",
      "Test Cost = 0.01799304452221687, test accuracy = 0.02467513605225713\n",
      "\n",
      "Training model 16\n",
      "Cost after 1 epochs is 0.038104628381746976, accuracy = -0.9763621653491381\n",
      "Cost after 2000 epochs is 0.028663612228879816, accuracy = -0.48668760560681634\n",
      "Cost after 4000 epochs is 0.023750819489843228, accuracy = -0.2318771506048476\n",
      "Cost after 6000 epochs is 0.02118697004854815, accuracy = -0.09889868450716022\n",
      "Cost after 8000 epochs is 0.019578982817170645, accuracy = -0.015497657875410464\n",
      "Cost after 10000 epochs is 0.01869666805634069, accuracy = 0.030265116498442546\n",
      "\n",
      "Test Cost = 0.016992380047806788, test accuracy = 0.014332220377239913\n",
      "\n",
      "Training model 17\n",
      "Cost after 1 epochs is 0.039005540679213004, accuracy = -1.0471804270231262\n",
      "Cost after 2000 epochs is 0.029099039047961406, accuracy = -0.5272441337011147\n",
      "Cost after 4000 epochs is 0.023707638422557402, accuracy = -0.24427997931754786\n",
      "Cost after 6000 epochs is 0.020803155234375034, accuracy = -0.0918400687323977\n",
      "Cost after 8000 epochs is 0.019375341371950804, accuracy = -0.016902187044606887\n",
      "Cost after 10000 epochs is 0.018625525999053556, accuracy = 0.0224513850004624\n",
      "\n",
      "Test Cost = 0.016626620270880615, test accuracy = 0.057214148961957645\n",
      "\n",
      "Training model 18\n",
      "Cost after 1 epochs is 0.03618795185076616, accuracy = -1.0154016033035105\n",
      "Cost after 2000 epochs is 0.027108354446629675, accuracy = -0.5097350974700325\n",
      "Cost after 4000 epochs is 0.022371258710236933, accuracy = -0.24591385714399228\n",
      "Cost after 6000 epochs is 0.019741346799594328, accuracy = -0.09944719047233619\n",
      "Cost after 8000 epochs is 0.018144661461808813, accuracy = -0.010523611624477125\n",
      "Cost after 10000 epochs is 0.01734806865469907, accuracy = 0.03384072342409594\n",
      "\n",
      "Test Cost = 0.020048903771359292, test accuracy = 0.01241950208588638\n",
      "\n",
      "Training model 19\n",
      "Cost after 1 epochs is 0.03690840677973115, accuracy = -0.9933004870878206\n",
      "Cost after 2000 epochs is 0.02779952927261531, accuracy = -0.5013602611085088\n",
      "Cost after 4000 epochs is 0.022977012716693945, accuracy = -0.24091215622888784\n",
      "Cost after 6000 epochs is 0.020203704510390937, accuracy = -0.09113498943164089\n",
      "Cost after 8000 epochs is 0.018782489037815802, accuracy = -0.014379861239640412\n",
      "Cost after 10000 epochs is 0.01805726456708192, accuracy = 0.024787104145485017\n",
      "\n",
      "Test Cost = 0.018890961998337175, test accuracy = 0.006144359785652309\n",
      "\n",
      "Training model 20\n",
      "Cost after 1 epochs is 0.036200870617761616, accuracy = -1.0118149467384674\n",
      "Cost after 2000 epochs is 0.027084542720400173, accuracy = -0.5051872217609887\n",
      "Cost after 4000 epochs is 0.02213766047962599, accuracy = -0.23027086030581367\n",
      "Cost after 6000 epochs is 0.01963269627715968, accuracy = -0.09106082647049663\n",
      "Cost after 8000 epochs is 0.018380345296500025, accuracy = -0.021463096403267157\n",
      "Cost after 10000 epochs is 0.017604907523058495, accuracy = 0.021630820296897668\n",
      "\n",
      "Test Cost = 0.02005200872941432, test accuracy = 0.007704101247028694\n",
      "\n",
      "Mean train cost = 0.01831875222340684\n",
      "Variance train cost = 2.2111382595572255e-07\n",
      "Max train cost = 0.01917153771861121\n",
      "Min train cost = 0.01734806865469907\n",
      "\n",
      "Mean test cost = 0.01788649538083934\n",
      "Variance test cost = 1.7039086595185964e-06\n",
      "Max test cost = 0.02005200872941432\n",
      "Min test cost = 0.015455133907591763\n",
      "\n",
      "Mean train accuracy = 0.026480658447209936\n",
      "Variance train accuracy = 3.261753572239664e-05\n",
      "Max train accuracy = 0.03633620843971497\n",
      "Min train accuracy = 0.011505923099075055\n",
      "\n",
      "Mean test accuracy = 0.022600187186150127\n",
      "Variance test accuracy = 0.0003334953061849545\n",
      "Max test accuracy = 0.0587498511169775\n",
      "Min test accuracy = -0.010149752966144288\n",
      "\n",
      "Best model number is 5\n"
     ]
    }
   ],
   "source": [
    "eta = 0.1\n",
    "W_sgd[eta], train_cost_sgd[eta], train_accuracy_sgd[eta], test_cost_sgd[eta], test_accuracy_sgd[eta] = generate_sgd_models(eta)"
   ]
  },
  {
   "cell_type": "markdown",
   "metadata": {},
   "source": [
    "## Finding best learning rate"
   ]
  },
  {
   "cell_type": "code",
   "execution_count": 35,
   "metadata": {},
   "outputs": [
    {
     "name": "stdout",
     "output_type": "stream",
     "text": [
      "Best eta for SGD is 0.1\n"
     ]
    }
   ],
   "source": [
    "best_eta_sgd = min(test_cost_sgd, key = test_cost_sgd.get)\n",
    "print(f'Best eta for SGD is {best_eta_sgd}')"
   ]
  },
  {
   "cell_type": "markdown",
   "metadata": {},
   "source": [
    "## Visualizing the results\n",
    "### Cost vs epochs plot"
   ]
  },
  {
   "cell_type": "code",
   "execution_count": 36,
   "metadata": {},
   "outputs": [
    {
     "data": {
      "image/png": "[encoded data removed]",
      "text/plain": [
       "<Figure size 720x720 with 1 Axes>"
      ]
     },
     "metadata": {
      "needs_background": "light"
     },
     "output_type": "display_data"
    }
   ],
   "source": [
    "plt.figure(figsize = (10, 10))\n",
    "for eta, error in train_cost_sgd.items():\n",
    "    plt.plot(list(error.keys()), list(error.values()), label = f'eta = {eta}')\n",
    "plt.xlabel('No of Epochs')\n",
    "plt.ylabel('Cost')\n",
    "plt.legend();"
   ]
  },
  {
   "cell_type": "markdown",
   "metadata": {},
   "source": [
    "### Accuracy vs epochs plot"
   ]
  },
  {
   "cell_type": "code",
   "execution_count": 37,
   "metadata": {},
   "outputs": [
    {
     "data": {
      "image/png": "[encoded data removed]",
      "text/plain": [
       "<Figure size 720x720 with 1 Axes>"
      ]
     },
     "metadata": {
      "needs_background": "light"
     },
     "output_type": "display_data"
    }
   ],
   "source": [
    "plt.figure(figsize = (10, 10))\n",
    "for eta, accuracy in train_accuracy_sgd.items():\n",
    "    plt.plot(list(accuracy.keys()), list(accuracy.values()), label = f'eta = {eta}')\n",
    "plt.xlabel('No of Epochs')\n",
    "plt.ylabel('Accuracy')\n",
    "plt.legend();"
   ]
  },
  {
   "cell_type": "markdown",
   "metadata": {},
   "source": [
    "# Comparison between GD and SGD\n",
    "## Cost comparison"
   ]
  },
  {
   "cell_type": "code",
   "execution_count": 38,
   "metadata": {
    "scrolled": false
   },
   "outputs": [
    {
     "data": {
      "image/png": "[encoded data removed]",
      "text/plain": [
       "<Figure size 720x720 with 1 Axes>"
      ]
     },
     "metadata": {
      "needs_background": "light"
     },
     "output_type": "display_data"
    },
    {
     "data": {
      "image/png": "[encoded data removed]",
      "text/plain": [
       "<Figure size 720x720 with 1 Axes>"
      ]
     },
     "metadata": {
      "needs_background": "light"
     },
     "output_type": "display_data"
    },
    {
     "data": {
      "image/png": "[encoded data removed]",
      "text/plain": [
       "<Figure size 720x720 with 1 Axes>"
      ]
     },
     "metadata": {
      "needs_background": "light"
     },
     "output_type": "display_data"
    }
   ],
   "source": [
    "for eta in [0.001, 0.01, 0.1]:\n",
    "    plt.figure(figsize = (10, 10)).suptitle(f'eta = {eta}')\n",
    "    plt.plot(list(train_cost_gd[eta].keys()), list(train_cost_gd[eta].values()), label = 'GD')\n",
    "    plt.plot(list(train_cost_sgd[eta].keys()), list(train_cost_sgd[eta].values()), label = 'SGD')\n",
    "    plt.xlabel('No of Iterations / Epochs')\n",
    "    plt.ylabel('Cost')\n",
    "    plt.legend();"
   ]
  },
  {
   "cell_type": "markdown",
   "metadata": {},
   "source": [
    "## Accuracy comparison"
   ]
  },
  {
   "cell_type": "code",
   "execution_count": 39,
   "metadata": {
    "scrolled": false
   },
   "outputs": [
    {
     "data": {
      "image/png": "[encoded data removed]",
      "text/plain": [
       "<Figure size 720x720 with 1 Axes>"
      ]
     },
     "metadata": {
      "needs_background": "light"
     },
     "output_type": "display_data"
    },
    {
     "data": {
      "image/png": "[encoded data removed]",
      "text/plain": [
       "<Figure size 720x720 with 1 Axes>"
      ]
     },
     "metadata": {
      "needs_background": "light"
     },
     "output_type": "display_data"
    },
    {
     "data": {
      "image/png": "[encoded data removed]",
      "text/plain": [
       "<Figure size 720x720 with 1 Axes>"
      ]
     },
     "metadata": {
      "needs_background": "light"
     },
     "output_type": "display_data"
    }
   ],
   "source": [
    "for eta in [0.001, 0.01, 0.1]:\n",
    "    plt.figure(figsize = (10, 10)).suptitle(f'eta = {eta}')\n",
    "    plt.plot(list(train_accuracy_gd[eta].keys()), list(train_accuracy_gd[eta].values()), label = 'GD')\n",
    "    plt.plot(list(train_accuracy_sgd[eta].keys()), list(train_accuracy_sgd[eta].values()), label = 'SGD')\n",
    "    plt.xlabel('No of Iterations / Epochs')\n",
    "    plt.ylabel('Accuracy')\n",
    "    plt.legend();"
   ]
  },
  {
   "cell_type": "markdown",
   "metadata": {},
   "source": [
    "# Predicting the output"
   ]
  },
  {
   "cell_type": "code",
   "execution_count": 40,
   "metadata": {},
   "outputs": [
    {
     "name": "stdout",
     "output_type": "stream",
     "text": [
      "Enter Age: 10\n",
      "Enter BMI: 20\n",
      "Enter no of children: 0\n",
      "Predicted charge using normal equations is 1805.2962468096173\n",
      "Predicted charge using GD is 2387.737037741555\n",
      "Predicted charge using SGD is 7242.021654055079\n"
     ]
    }
   ],
   "source": [
    "# Getting input from user\n",
    "age = float(input('Enter Age: '))\n",
    "bmi = float(input('Enter BMI: '))\n",
    "children = int(input('Enter no of children: '))\n",
    "\n",
    "# Normalizing the input\n",
    "age_normalized = normalize(age, 'age')\n",
    "bmi_normalized = normalize(bmi, 'bmi')\n",
    "children_normalized = normalize(children, 'children')\n",
    "\n",
    "# Generating X vector\n",
    "X = np.array([1, age_normalized, bmi_normalized, children_normalized])\n",
    "\n",
    "# Calculating normalized result using normal equations weights\n",
    "charge_normalized = predict(W_normal[best_normal_model], X)[0]\n",
    "\n",
    "# Denormalizing the result\n",
    "charge = denormalize(charge_normalized, 'charges')\n",
    "\n",
    "# Printing the result\n",
    "print(f'Predicted charge using normal equations is {charge}')\n",
    "\n",
    "# Calculating normalized result using gradient descent weights\n",
    "charge_normalized = predict(W_gd[best_eta_gd], X)[0]\n",
    "\n",
    "# Denormalizing the result\n",
    "charge = denormalize(charge_normalized, 'charges')\n",
    "\n",
    "# Printing the result\n",
    "print(f'Predicted charge using GD is {charge}')\n",
    "\n",
    "# Calculating normalized result using normal equations weights\n",
    "charge_normalized = predict(W_sgd[best_eta_sgd], X)[0]\n",
    "\n",
    "# Denormalizing the result\n",
    "charge = denormalize(charge_normalized, 'charges')\n",
    "\n",
    "# Printing the result\n",
    "print(f'Predicted charge using SGD is {charge}')"
   ]
  },
  {
   "cell_type": "code",
   "execution_count": null,
   "metadata": {},
   "outputs": [],
   "source": []
  }
 ],
 "metadata": {
  "kernelspec": {
   "display_name": "Python 3",
   "language": "python",
   "name": "python3"
  },
  "language_info": {
   "codemirror_mode": {
    "name": "ipython",
    "version": 3
   },
   "file_extension": ".py",
   "mimetype": "text/x-python",
   "name": "python",
   "nbconvert_exporter": "python",
   "pygments_lexer": "ipython3",
   "version": "3.8.6"
  }
 },
 "nbformat": 4,
 "nbformat_minor": 4
}
