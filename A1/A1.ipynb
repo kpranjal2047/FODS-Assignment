{
 "cells": [
  {
   "cell_type": "markdown",
   "metadata": {},
   "source": [
    "# Initialization"
   ]
  },
  {
   "cell_type": "code",
   "execution_count": 1,
   "metadata": {},
   "outputs": [],
   "source": [
    "# Importing required modules\n",
    "import numpy as np\n",
    "from scipy.special import gamma\n",
    "import matplotlib.pyplot as plt\n",
    "%matplotlib inline\n",
    "\n",
    "import os\n",
    "from os.path import exists"
   ]
  },
  {
   "cell_type": "markdown",
   "metadata": {},
   "source": [
    "## Generating the dataset"
   ]
  },
  {
   "cell_type": "code",
   "execution_count": 2,
   "metadata": {},
   "outputs": [],
   "source": [
    "def generate_dataset(size, mean):\n",
    "    ones = int(size * mean)\n",
    "    while 0.4 <= (ones / size) <= 0.6:\n",
    "        ones += 1\n",
    "    lst = [1 if i < ones else 0 for i in range(size)]\n",
    "    D = np.array(lst)\n",
    "    np.random.shuffle(D)\n",
    "    np.save('dataset', D)"
   ]
  },
  {
   "cell_type": "code",
   "execution_count": 3,
   "metadata": {},
   "outputs": [],
   "source": [
    "## Comment out this block to avoid generating dataset every time the program is run\n",
    "## Uncomment to generate new dataset\n",
    "\n",
    "# generate_dataset(size = 160, mean = 0.7)"
   ]
  },
  {
   "cell_type": "code",
   "execution_count": 4,
   "metadata": {},
   "outputs": [
    {
     "name": "stdout",
     "output_type": "stream",
     "text": [
      "mu(ML) = 0.7\n",
      "Size of dataset D = 160\n",
      "D = [1 1 1 1 1 0 1 1 1 1 0 1 0 1 0 1 0 1 0 1 1 1 0 1 0 1 1 1 1 0 1 1 1 1 1 1 1\n",
      " 1 0 0 0 1 1 1 1 0 0 1 1 1 1 1 1 1 1 1 1 1 1 0 1 1 1 1 0 0 0 0 0 0 1 1 0 1\n",
      " 1 0 1 0 1 1 0 0 0 1 1 0 1 1 0 0 1 1 1 1 1 0 0 1 0 0 1 1 1 1 1 1 0 1 1 1 1\n",
      " 1 1 0 1 0 1 1 1 1 1 1 0 1 1 1 0 1 0 1 1 1 0 1 1 1 0 1 1 0 1 1 0 1 0 1 1 1\n",
      " 1 1 1 1 1 0 0 1 0 1 1 1]\n"
     ]
    }
   ],
   "source": [
    "# Loading the dataset\n",
    "D = np.load('dataset.npy')\n",
    "size = D.size\n",
    "print(f'mu(ML) = {D.mean()}')\n",
    "print(f'Size of dataset D = {size}')\n",
    "print(f'D = {D}')"
   ]
  },
  {
   "cell_type": "markdown",
   "metadata": {},
   "source": [
    "## Function for plotting pdf of beta distribution"
   ]
  },
  {
   "cell_type": "code",
   "execution_count": 5,
   "metadata": {},
   "outputs": [],
   "source": [
    "def beta_pdf(x, a, b):\n",
    "    reg = gamma(a + b) / (gamma(a) * gamma(b))\n",
    "    pd = (x ** (a - 1)) * ((1 - x) ** (b - 1))\n",
    "    return reg * pd"
   ]
  },
  {
   "cell_type": "code",
   "execution_count": 6,
   "metadata": {},
   "outputs": [],
   "source": [
    "mean_beta = {}\n",
    "def plot_beta(a, b, m = 0, l = 0, name = 'temp', display = True):\n",
    "    x = np.linspace(0, 1, 201)\n",
    "    y = beta_pdf(x, a + m, b + l)\n",
    "    mean_beta[name.split('/')[-1]] = np.mean(x * y)\n",
    "    plt.plot(x, y)\n",
    "    plt.gca().set_ylim([0, 12])\n",
    "    if not exists('plots'):\n",
    "        os.mkdir('plots')\n",
    "    if not exists('Results'):\n",
    "        os.mkdir('Results')\n",
    "    plt.savefig(name)\n",
    "    if display:\n",
    "        plt.show();\n",
    "    else:\n",
    "        plt.close();"
   ]
  },
  {
   "cell_type": "markdown",
   "metadata": {},
   "source": [
    "## Initializing parameters for beta distribution\n",
    "### Mean of beta distribution = $ \\frac {a} {a+b} \\approx $ 0.4"
   ]
  },
  {
   "cell_type": "code",
   "execution_count": 7,
   "metadata": {},
   "outputs": [],
   "source": [
    "a = 2\n",
    "b = 3"
   ]
  },
  {
   "cell_type": "markdown",
   "metadata": {},
   "source": [
    "## Generating prior distribution plot"
   ]
  },
  {
   "cell_type": "code",
   "execution_count": 8,
   "metadata": {},
   "outputs": [
    {
     "data": {
      "image/png": "[encoded data removed]",
      "text/plain": [
       "<Figure size 432x288 with 1 Axes>"
      ]
     },
     "metadata": {
      "needs_background": "light"
     },
     "output_type": "display_data"
    }
   ],
   "source": [
    "plot_beta(a, b, name = 'Results/prior.png')"
   ]
  },
  {
   "cell_type": "markdown",
   "metadata": {},
   "source": [
    "# Generating Bob's distribution"
   ]
  },
  {
   "cell_type": "code",
   "execution_count": 9,
   "metadata": {},
   "outputs": [],
   "source": [
    "# Initialization\n",
    "h = 0   # Total no of heads till now\n",
    "t = 0   # Total no of tails till now"
   ]
  },
  {
   "cell_type": "code",
   "execution_count": 10,
   "metadata": {},
   "outputs": [
    {
     "data": {
      "image/png": "[encoded data removed]",
      "text/plain": [
       "<Figure size 432x288 with 1 Axes>"
      ]
     },
     "metadata": {
      "needs_background": "light"
     },
     "output_type": "display_data"
    },
    {
     "name": "stdout",
     "output_type": "stream",
     "text": [
      "Posterior curve for Bob\n"
     ]
    }
   ],
   "source": [
    "# Plots will be saved in '/plots' folder\n",
    "plot_beta(a, b, name = 'plots/0.png', display = False)\n",
    "for i in range(1, size + 1):\n",
    "    r = D[i - 1]\n",
    "\n",
    "    # m and l will be taken only for single datapoint\n",
    "    m = int(r == 1)\n",
    "    l = int(r == 0)\n",
    "\n",
    "    # a+h and b+t were parameters from previous distribution\n",
    "    plot_beta(a + h, b + t, m, l, name = f'plots/{i}.png', display = (i == size))\n",
    "\n",
    "    # Updating the parameters for next datapoint\n",
    "    if r == 1:\n",
    "        h += 1\n",
    "    else:\n",
    "        t += 1\n",
    "print('Posterior curve for Bob')"
   ]
  },
  {
   "cell_type": "markdown",
   "metadata": {},
   "source": [
    "## Visualizing mean change"
   ]
  },
  {
   "cell_type": "code",
   "execution_count": 11,
   "metadata": {},
   "outputs": [
    {
     "data": {
      "image/png": "[encoded data removed]",
      "text/plain": [
       "<Figure size 432x288 with 1 Axes>"
      ]
     },
     "metadata": {
      "needs_background": "light"
     },
     "output_type": "display_data"
    }
   ],
   "source": [
    "x = range(1, size + 1)\n",
    "y = [mean_beta[f'{z}.png'] for z in x]\n",
    "plt.figure()\n",
    "plt.plot(x, y)\n",
    "plt.xlabel('No of datapoints read')\n",
    "plt.ylabel('Mean')\n",
    "plt.savefig('Results/Mean.png')"
   ]
  },
  {
   "cell_type": "markdown",
   "metadata": {},
   "source": [
    "# Generating Lisa's distribution"
   ]
  },
  {
   "cell_type": "code",
   "execution_count": 12,
   "metadata": {},
   "outputs": [],
   "source": [
    "# Initialization\n",
    "\n",
    "# m and l will be initialized by taking all datapoints at once\n",
    "m = D.sum()\n",
    "l = size - m"
   ]
  },
  {
   "cell_type": "code",
   "execution_count": 13,
   "metadata": {},
   "outputs": [
    {
     "data": {
      "image/png": "[encoded data removed]",
      "text/plain": [
       "<Figure size 432x288 with 1 Axes>"
      ]
     },
     "metadata": {
      "needs_background": "light"
     },
     "output_type": "display_data"
    },
    {
     "name": "stdout",
     "output_type": "stream",
     "text": [
      "Posterior curve for Lisa\n"
     ]
    }
   ],
   "source": [
    "# Plotting posterior curve for Lisa\n",
    "plot_beta(a, b, m, l, name = 'Results/posterior_Lisa.png')\n",
    "print('Posterior curve for Lisa')"
   ]
  },
  {
   "cell_type": "markdown",
   "metadata": {},
   "source": [
    "# Comparing the distributions"
   ]
  },
  {
   "cell_type": "code",
   "execution_count": 14,
   "metadata": {},
   "outputs": [
    {
     "data": {
      "image/png": "[encoded data removed]",
      "text/plain": [
       "<Figure size 432x288 with 1 Axes>"
      ]
     },
     "metadata": {
      "needs_background": "light"
     },
     "output_type": "display_data"
    }
   ],
   "source": [
    "x = np.linspace(0, 1, 201)\n",
    "y_bob = beta_pdf(x, a + h, b + t)\n",
    "y_lisa = beta_pdf(x, a + m, b + l)\n",
    "plt.figure()\n",
    "plt.plot(x, y_bob, 'b-', label = 'Bob')\n",
    "plt.plot(x, y_lisa, 'r--', label = 'Lisa')\n",
    "plt.gca().set_ylim([0, 12])\n",
    "plt.legend()\n",
    "plt.savefig('Results/comparison.png')"
   ]
  }
 ],
 "metadata": {
  "kernelspec": {
   "display_name": "Python 3",
   "language": "python",
   "name": "python3"
  },
  "language_info": {
   "codemirror_mode": {
    "name": "ipython",
    "version": 3
   },
   "file_extension": ".py",
   "mimetype": "text/x-python",
   "name": "python",
   "nbconvert_exporter": "python",
   "pygments_lexer": "ipython3",
   "version": "3.8.6"
  }
 },
 "nbformat": 4,
 "nbformat_minor": 2
}
